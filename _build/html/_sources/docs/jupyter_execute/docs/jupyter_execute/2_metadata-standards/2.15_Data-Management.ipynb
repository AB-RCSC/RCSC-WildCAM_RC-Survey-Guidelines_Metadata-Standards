{
 "cells": [
  {
   "cell_type": "markdown",
   "id": "63507f19",
   "metadata": {},
   "source": [
    "(#TOC-metadata-standards-data-management)=\n",
    "# 10.0 Data management\n",
    "\n",
    "Data management is a critical component of any project. Below are recommendations on file naming conventions and file structure to help manage remote camera data. Refer to the Remote Camera Survey Guidelines (RCSC et al., 2023) for additional information topics related to data management, including\n",
    "software platforms and tools to help camera users enter metadata as well as store, process and analyze image data.\n",
    "\n",
    "(#TOC-metadata-standards-naming-conventions)=\n",
    "## 10.1 Naming conventions\n",
    "\n",
    "It is highly recommended that users develop a set of naming conventions prior to entering data. Using naming conventions will minimize the risk of having images from different deployments, study areas, or surveys with the same name.\n",
    "\n",
    "Naming conventions are especially important for the following fields:\n",
    "\n",
    "-   Project ID\n",
    "-   Study Area ID\n",
    "-   Survey ID\n",
    "-   Sample Station ID\n",
    "-   Camera Location ID\n",
    "-   Deployment ID\n",
    "-   Image ID\n",
    "-   Sequence ID\n",
    "\n",
    "Refer to [Appendix A - Table A2](#metadata-standards-appendix-a-table-a-2) for examples of\n",
    "recommended naming conventions. If you wish to rename your images, it is highly recommended that renamed images reflect the associated Image ID. IDs or file names should not have spaces or leading zeros. Alternative naming conventions may be used, but the goal should be to minimize duplication of\n",
    "IDs (and/or file names).\n",
    "\n",
    "Data entry software can be used for batch processing of image names, which can significantly reduce data processing time compared to renaming images manually (e.g., [Timelapse](http://saul.cpsc.ucalgary.ca/timelapse/)2 [Greenberg, 2018], [Reconyx MapView](http://www.reconyx.com/software/mapview;)\n",
    "[Reconyx, Holmen, WI, USA]) or other tools (e.g., [WildCo Lab's Image Renamer](https://github.com/WildCoLab/WildCo_Image_Renamer) [WildCo Lab, 2021b]).\n",
    "\n",
    "Note that it is not always necessary to rename images. For example, renaming would not be required if data are stored in a folder structure that identifies the camera location and the survey from which it was collected).\n",
    "\n",
    "(#TOC-metadata-standards-file-structure)=\n",
    "## 10.2 File structure\n",
    "\n",
    "Image data ideally should be stored in a hierarchical structure as shown in ([Figure 1](#metadata-standards-figure-1)). Each level would typically comprise a series of file subfolders containing data from the level below it (e.g., a project folder with study area subfolders, with each study area with survey subfolders\n",
    "etc.). For example, [Figure 2](#metadata-standards-figure-2) shows the file structure for a project that consisted of two study areas, each with one survey and each survey with two camera locations with one deployment period and 2 sequences per camera location.\n",
    "\n",
    "However, this is often not the way we store this information in the form of CSVs (e.g., if there are only one or two study areas, it might not make sense to store this information in a separate CSV file). These metadata standards suggest a CSV structure similar to that of other metadata/data\n",
    "repositories (e.g., [B.C. Metadata Standards](https://www2.gov.bc.ca/assets/gov/environment/natural-resource-stewardship/nr-laws-policy/risc/wcmp_v1.pdf) [RISC, 2019], [Wildlife Insights Minimum Metadata\n",
    "Standards](https://docs.google.com/spreadsheets/d/1Jg-WybmVeGlWGrbPpwuwJCgranOV1r3M_LrzELttfK0/edit#gid=412365965) (Ahumada et al., 2019), WildTrax) that consists of four CSVs associated with these metadata standards:\n",
    "\n",
    "-   Project CSV\n",
    "-   Sample Staton/Camera Location\n",
    "-   Deployment CSV\n",
    "-   Image/Sequence CSV (includes Event Type = \"Tag\")\n",
    "\n",
    "The information from each CSV can be linked using identifiers for each of the levels in the folder structure/ hierarchy (refer to [Figure 3](#metadata-standards-figure-3)) so that redundant information does not need to be repeated, and the chance of error is reduced. The connections between the levels and CSVs\n",
    "are also outlined in [Appendix A - Table A2](#metadata-standards-appendix-a-table-a-2).\n",
    "\n",
    "Refer to the Remote Camera Metadata Standards: Metadata Template (RCSC et al., 2023) for the template CSVs and additional information.\n",
    "\n",
    "(#metadata-standards-figure-2)=\n",
    "\n",
    "```{figure} ./files-2_metadata-standards/figures/Metadata_FolderStructure_2023-07-13_trimmed.jpg\n",
    ":align: center\n",
    "```\n",
    "\n",
    "**Figure 2.** Example of the recommended file structure and naming conventions for a project that consisted of two study areas, each with one survey and each survey with two camera locations with one deployment period and 2 sequences per camera location.\n",
    "\n",
    "(#metadata-standards-figure-3)=\n",
    "\n",
    "```{figure} ./files-2_metadata-standards/figures/Metadata_Links_CSV_Heirarchy_2023-07-12_trimmed.jpg\n",
    ":align: center\n",
    "```\n",
    "**Figure 3.** The hierarchical structure of remote camera data in the Remote Camera Metadata Standards for Alberta (based on Forrester et al. [2016], [Wildlife Insights Minimum Metadata Standards](https://docs.google.com/spreadsheets/d/1Jg-WybmVeGlWGrbPpwuwJCgranOV1r3M_LrzELttfK0/edit#gid=412365965)\n",
    "[Ahumada et al., 2019] and the [B.C. Metadata Standards](https://www2.gov.bc.ca/assets/gov/environment/natural-resource-stewardship/nr-laws-policy/risc/wcmp_v1.pdf) [RISC, 2019]) and the linkages with and within the four CSVs included in these metadata standards (\"Project CSV,\" \"Sample\n",
    "Station/Camera Location CSV,\" \"Deployment CSV,\" and the \"Image/Sequence CSV\").\n",
    "\n",
    "\n",
    "(#TOC-metadata-standards-data-storage-archival)=\n",
    "## 10.3 Data storage (archival)\n",
    "\n",
    "It is strongly encouraged/may be required that remote camera datasets are submitted to an open data repository. There are regulatory requirements to submit data loadforms to the [FWMIS database](https://www.alberta.ca/fisheries-and-wildlife-management-information-system-overview.aspx) (not images,\n",
    "although this is strongly encouraged) according to specific policies (e.g., Sensitive Species Inventory Protocols, Research and Collection permits, etc.). A new FWMIS loadform consistent with these Metadata Standards will be available in August 2023. Refer to the Government of Alberta web pages for\n",
    "further information.\n",
    "\n",
    "There are other cloud or server-based repositories available to house all camera datasets, including [WildTrax](http://www.wildtrax.ca/), [eMammal](https://emammal.si.edu/) (McShea et al., 2015), [Wildlife Insights](https://www.wildlifeinsights.org/) (Ahumada et al., 2019) and others (see Young et\n",
    "al., [2018] for a comparison of 12 available programs for the management of camera data).\n",
    "\n",
    "All data, including the images, deployment area photos and complete metadata, can be uploaded and stored in the [WildTrax repository](http://www.wildtrax.ca). WildTrax has multiple privacy options and can accommodate all categories of images that users may prefer to manage separately, including\n",
    "\"false fires\" and images of humans.\n",
    "\n",
    "[Appendix 1 - Table A1](#metadata-standards-appendix-a-table-a-1) contains a\n",
    "crosswalk table linking the data fields from these Alberta Metadata Standards with those from the [B.C. Metadata Standards](https://www2.gov.bc.ca/assets/gov/environment/natural-resource-stewardship/nr-laws-policy/risc/wcmp_v1.pdf) (RISC, 2019), FWMIS, WildTrax and [Wildlife\n",
    "Insights](https://www.wildlifeinsights.org/) (Ahumada et al., 2019) data repositories.\n",
    "\n",
    "Refer to the Remote Camera Survey Guidelines (RCSC et al., 2023) for more information on data storage."
   ]
  }
 ],
 "metadata": {
  "editor_options": {
   "markdown": {
    "wrap": 300
   }
  },
  "jupytext": {
   "formats": "md:myst",
   "text_representation": {
    "extension": ".md",
    "format_name": "myst",
    "format_version": 0.13,
    "jupytext_version": "1.11.5"
   }
  },
  "kernelspec": {
   "display_name": "Python 3",
   "language": "python",
   "name": "python3"
  },
  "language_info": {
   "codemirror_mode": {
    "name": "ipython",
    "version": 3
   },
   "file_extension": ".py",
   "mimetype": "text/x-python",
   "name": "python",
   "nbconvert_exporter": "python",
   "pygments_lexer": "ipython3",
   "version": "3.11.3"
  },
  "source_map": [
   17
  ]
 },
 "nbformat": 4,
 "nbformat_minor": 5
}