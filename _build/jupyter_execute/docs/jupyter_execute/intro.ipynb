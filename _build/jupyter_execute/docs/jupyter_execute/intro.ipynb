{
 "cells": [
  {
   "cell_type": "markdown",
   "id": "fbf1bbbb",
   "metadata": {},
   "source": [
    "# Remote Camera Survey Guidelines & AB Metadata Standards\n",
    "\n",
    "## Download the files & Access the templates  \n",
    "\n",
    "\n",
    "-----------------------------------------------------------------------------------------------------------------------------------  \n",
    "\n",
    "  \n",
    "::: {dropdown} **Remote Camera Survey Guidelines: Guidelines for Western Canada**  \n",
    "\n",
    "(#remote-cam-survey-guidelines)=\n",
    "\n",
    "```{figure} ./1_survey-guidelines/files-1_survey-guidelines/downloadables/Remote-Camera-Survey-Guidelines-v1-(RCSC-et-al.,-2023)_2023-07-13.pdf\n",
    ":alt: Remote Camera Survey Guidelines v1 (RCSC et al., 2023)\n",
    "```  \n",
    "\n",
    "(#camera-deployment-field-datasheet)=\n",
    "\n",
    "```{figure} ./1_survey-guidelines/files-1_survey-guidelines/downloadables/Deployment-Field-Datasheet_RC-Survey-Guidelines-v1_2023-07-13.pdf\n",
    ":alt: Remote Camera Survey Guidelines - Camera Deployment Field Datasheet (RCSC et al., 2023) \n",
    "```  \n",
    "\n",
    "(#test-image-sheet)=\n",
    "\n",
    "```{figure} ./1_survey-guidelines/files-1_survey-guidelines/downloadables/Test-Image-Sheet_RC-Survey-Guidelines-v1_2023-07-13.pdf\n",
    ":alt: Remote Camera Survey Guidelines - Test Image Sheet (RCSC et al., 2023)\n",
    "```  \n",
    "\n",
    "(#camera-service-retrieval-field-datasheet)=\n",
    "\n",
    "```{figure} ./1_survey-guidelines/files-1_survey-guidelines/downloadables/Service-Retrieval-Field-Datasheet_RC-Survey-Guidelines-v1_2023-07-13.pdf\n",
    ":alt: Remote Camera Survey Guidelines - Camera Service/Retrieval Field Datasheet (RCSC et al., 2023)\n",
    "```  \n",
    "\n",
    "\n",
    ":::  \n",
    "\n",
    "\n",
    "\n",
    "\n",
    "\n",
    "-----------------------------------------------------------------------------------------------------------------------------------  \n",
    "  \n",
    "::: {dropdown} **Remote Camera Metadata Standards: Standards for Alberta**  \n",
    "\n",
    "(#ab-metadata-standards)=\n",
    "\n",
    "\n",
    "```{figure} ./2_metadata-standards/files-2_metadata-standards/downloadable/AB-Remote-Camera-Metadata-Standards-v2-(RCSC,-2023)_2023-07-13.pdf\n",
    ":alt: Remote Camera Metadata Standards: Standards for Alberta v2 (RCSC, 2023)\n",
    "```  \n",
    "\n",
    "(#metadata-template)=\n",
    "\n",
    "```{figure} ./2_metadata-standards/files-2_metadata-standards/downloadables/Remote-Camera-Metadata-Template-v1-(RCSC,-2023)_2023-07-13.xlsm\n",
    ":alt: Alberta Remote Camera Metadata Standards - Metadata Template (RCSC, 2023)\n",
    "```  \n",
    "\n",
    "(#epicollect-template)=\n",
    "\n",
    "```{figure} https://five.epicollect.net/project/rcsc-and-wildcam-remote-camera-survey-guidelines\n",
    ":alt: Alberta Remote Camera Metadata Standards - EpiCollect Template (RCSC et al., 2023)\n",
    "```  \n",
    "\n",
    ":::"
   ]
  }
 ],
 "metadata": {
  "editor_options": {
   "markdown": {
    "wrap": 300
   }
  },
  "jupytext": {
   "formats": "md:myst",
   "text_representation": {
    "extension": ".md",
    "format_name": "myst",
    "format_version": 0.13,
    "jupytext_version": "1.11.5"
   }
  },
  "kernelspec": {
   "display_name": "Python 3",
   "language": "python",
   "name": "python3"
  },
  "language_info": {
   "codemirror_mode": {
    "name": "ipython",
    "version": 3
   },
   "file_extension": ".py",
   "mimetype": "text/x-python",
   "name": "python",
   "nbconvert_exporter": "python",
   "pygments_lexer": "ipython3",
   "version": "3.11.3"
  },
  "source_map": [
   17
  ]
 },
 "nbformat": 4,
 "nbformat_minor": 5
}