{
 "cells": [
  {
   "cell_type": "markdown",
   "id": "b06e5701",
   "metadata": {},
   "source": [
    "(#TOC-metadata-standards-purpose)=\n",
    "# 1.0 Purpose\n",
    "\n",
    "The purpose of these Remote Camera Metadata Standards is to provide guidance on the types of data that should be collected and documented when using remote cameras to detect wildlife.\n",
    "\n",
    "There are several benefits to having standardized methods for collection and reporting of metadata, including:\n",
    "\n",
    "-   Enabling province-wide consistency and reliability in data collection;\n",
    "-   Enabling data consolidation amongst projects and enhancing the ability to answer large-scale management / research questions;\n",
    "-   Facilitating comparison between surveys or studies;\n",
    "-   Promoting higher quality of data which facilitates data sharing and tracking;\n",
    "-   Enhancing common design standards for reproducible research;\n",
    "-   Allowing for efficient project and data review; and\n",
    "-   Ensuring project planning meets required government and research institute standards.\n",
    "\n",
    "A companion document exists, the Remote Camera Survey Guidelines: Guidelines for Western Canada (RCSC et al., 2023; \"Remote Camera Survey Guidelines\" hereafter), that should be viewed alongside these standards. The purpose of the Guidelines is to provide information on study /survey design and implementation (including equipment and deployment recommendations) for novice to advanced users of remote cameras. The intended audience includes consultants, researchers, and wildlife biologists working for government, non-government agencies and industry.\n",
    "\n",
    "(#TOC-metadata-standards-supporting-documents)=\n",
    "## 1.2 Supporting documents\n",
    "\n",
    "There are several other supporting documents that are consistent with these standards and the Remote Camera Survey Guidelines (RCSC et al., 2023), including the following:\n",
    "\n",
    "-   Remote Camera Survey Guidelines supporting documents:\n",
    "    -   [Camera Deployment Field Datasheet](#camera-deployment-field-datasheet) (RCSC et al., 2023)\n",
    "    -   [Camera Service/Retrieval Field Datasheet](#camera-service-retrieval-field-datasheet) (RCSC et al., 2023),\n",
    "    -   [Test Image Sheet](#test-image-sheet) (RCSC et al., 2023),\n",
    "    -   Survey123 Template (RCSC et al., 2023; available in August 2023), and\n",
    "    -   [EpiCollect Template](https://five.epicollect.net/project/rcsc-and-wildcam-remote-camera-survey-guidelines) (RCSC et al., 2023) (<https://five.epicollect.net/project/rcsc-and-wildcam-remote-camera-survey-guidelines>)\n",
    "-   [Alberta Remote Camera Metadata Standards: Metadata Template (RCSC, 2023)](#metadata-template)\n",
    "\n",
    "Copies of the [Camera Deployment Field Datasheet](#camera-deployment-field-datasheet), [Test Image Sheet](#test-image-sheet) and [Camera Service/Retrieval Field Datasheet](#camera-service-retrieval-field-datasheet) are also available within this document in [Appendix A.](#TOC-survey-guidelines-appendix-a-field-datasheets) of the Remote Camera Survey Guidelines (RCSC et al., 2023)."
   ]
  }
 ],
 "metadata": {
  "editor_options": {
   "markdown": {
    "wrap": 300
   }
  },
  "jupytext": {
   "formats": "md:myst",
   "text_representation": {
    "extension": ".md",
    "format_name": "myst",
    "format_version": 0.13,
    "jupytext_version": "1.11.5"
   }
  },
  "kernelspec": {
   "display_name": "Python 3",
   "language": "python",
   "name": "python3"
  },
  "language_info": {
   "codemirror_mode": {
    "name": "ipython",
    "version": 3
   },
   "file_extension": ".py",
   "mimetype": "text/x-python",
   "name": "python",
   "nbconvert_exporter": "python",
   "pygments_lexer": "ipython3",
   "version": "3.11.3"
  },
  "source_map": [
   17
  ]
 },
 "nbformat": 4,
 "nbformat_minor": 5
}