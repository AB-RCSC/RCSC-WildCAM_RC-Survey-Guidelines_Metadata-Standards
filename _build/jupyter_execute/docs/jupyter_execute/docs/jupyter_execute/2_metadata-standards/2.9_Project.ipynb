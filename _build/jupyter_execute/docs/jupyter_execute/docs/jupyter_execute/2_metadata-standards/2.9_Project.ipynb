{
 "cells": [
  {
   "cell_type": "markdown",
   "id": "ca433404",
   "metadata": {},
   "source": [
    "(#TOC-metadata-standards-project)=\n",
    "# 4.0 Project\n",
    "\n",
    "A **project** is a scientific study, inventory or monitoring program that has a certain objective, defined methods, and a defined boundary in space and time. Careful consideration of the objectives and survey design for any remote camera project is encouraged. Recommendations on the appropriate survey designs to achieve various objectives are available in the Remote Camera Survey Guidelines (RCSC et al., 2023).\n",
    "\n",
    "(#TOC-metadata-standards-project-id)=\n",
    "## 4.1 Project ID\n",
    "\n",
    "The **Project ID** is a unique alphanumeric identifier for each project. Ideally, the Project ID should include an abbreviation for the organization, a brief project name, and the year the project began (e.g., \"UofA_WildEdmonton-Urban-Wildlife-Monitoring_2018\").\n",
    "\n",
    "(#TOC-metadata-standards-project-coordinator)=\n",
    "## 4.2 Project Coordinator\n",
    "\n",
    "The first and last name of the primary contact for the project.\n",
    "\n",
    "(#TOC-metadata-standards-project-coordinator-email)=\n",
    "## 4.3 Project Coordinator Email\n",
    "\n",
    "The email address of the Project Coordinator.\n",
    "\n",
    "(#TOC-metadata-standards-project-description)=\n",
    "## 4.4 Project Description\n",
    "\n",
    "Describe the project objectives(s) and general methods.\n",
    "\n",
    "For example: \"The objective of this project is to compare wolf occupancy in the oil sands region of north-eastern Alberta using two study areas with high energy development and two reference areas with little to no industrial footprint.\""
   ]
  }
 ],
 "metadata": {
  "editor_options": {
   "markdown": {
    "wrap": 300
   }
  },
  "jupytext": {
   "formats": "md:myst",
   "text_representation": {
    "extension": ".md",
    "format_name": "myst",
    "format_version": 0.13,
    "jupytext_version": "1.11.5"
   }
  },
  "kernelspec": {
   "display_name": "Python 3",
   "language": "python",
   "name": "python3"
  },
  "language_info": {
   "codemirror_mode": {
    "name": "ipython",
    "version": 3
   },
   "file_extension": ".py",
   "mimetype": "text/x-python",
   "name": "python",
   "nbconvert_exporter": "python",
   "pygments_lexer": "ipython3",
   "version": "3.11.3"
  },
  "source_map": [
   17
  ]
 },
 "nbformat": 4,
 "nbformat_minor": 5
}