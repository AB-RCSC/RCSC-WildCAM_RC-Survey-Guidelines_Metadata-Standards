{
 "cells": [
  {
   "cell_type": "markdown",
   "id": "f7518225",
   "metadata": {},
   "source": [
    "(#TOC-survey-guidelines-appendix-a-field-datasheets)=\n",
    "\n",
    "# Appendix A - Field Datasheets\n",
    "\n",
    "**Camera Deployment Field Datasheet**\n",
    "```{figure} ./files-1_survey-guidelines/datasheets/Deployment-Field-Datasheet-A.jpg\n",
    ":width: 1000px\n",
    ":align: center\n",
    "```\n",
    "```{figure} ./files-1_survey-guidelines/datasheets/Deployment-Field-Datasheet-B.jpg\n",
    ":width: 900px\n",
    ":align: center\n",
    "```\n",
    "*View the PDF*\n",
    "```{figure} ./files-1_survey-guidelines/downloadables/Deployment-Field-Datasheet_RC-Survey-Guidelines-v1_2023-07-13.pdf\n",
    ":height: 1000px\n",
    ":alt: Remote Camera Survey Guidelines - Camera Deployment Field Datasheet\n",
    "```  \n",
    "\n",
    "\n",
    "***\n",
    "\n",
    "**Test Image Sheet** \n",
    "\n",
    "```{figure} ./files-1_survey-guidelines/datasheets/Test-Image-Sheet.jpg\n",
    ":height: 600px\n",
    ":align: center\n",
    "```\n",
    "*View the PDF*\n",
    "```{figure} ./files-1_survey-guidelines/downloadables/Test-Image-Sheet_RC-Survey-Guidelines-v1_2023-07-13.pdf\n",
    ":alt: Remote Camera Survey Guidelines - Test Image Sheet2\n",
    ":height: 600px\n",
    ":align: left\n",
    "```  \n",
    "\n",
    "\n",
    "***\n",
    "\n",
    "**Camera Service/Retrieval Field Datasheet** \n",
    "```{figure} ./files-1_survey-guidelines/datasheets/Service-RetrievalField-Datasheet-A.jpg\n",
    ":height: 1000px\n",
    ":align: center\n",
    "```\n",
    "```{figure} ./files-1_survey-guidelines/datasheets/Service-RetrievalField-Datasheet-B.jpg\n",
    ":height: 900px\n",
    ":align: center\n",
    "```\n",
    "*View the PDF*\n",
    "```{figure} ./files-1_survey-guidelines/downloadables/Service-Retrieval-Field-Datasheet_RC-Survey-Guidelines-v1_2023-07-13.pdf\n",
    ":alt: Remote Camera Survey Guidelines - Camera Service/Retrieval Field Datasheet\n",
    ":height: 1000px\n",
    "```"
   ]
  }
 ],
 "metadata": {
  "editor_options": {
   "markdown": {
    "wrap": 300
   }
  },
  "jupytext": {
   "formats": "md:myst",
   "text_representation": {
    "extension": ".md",
    "format_name": "myst",
    "format_version": 0.13,
    "jupytext_version": "1.11.5"
   }
  },
  "kernelspec": {
   "display_name": "Python 3",
   "language": "python",
   "name": "python3"
  },
  "language_info": {
   "codemirror_mode": {
    "name": "ipython",
    "version": 3
   },
   "file_extension": ".py",
   "mimetype": "text/x-python",
   "name": "python",
   "nbconvert_exporter": "python",
   "pygments_lexer": "ipython3",
   "version": "3.11.3"
  },
  "source_map": [
   17
  ]
 },
 "nbformat": 4,
 "nbformat_minor": 5
}