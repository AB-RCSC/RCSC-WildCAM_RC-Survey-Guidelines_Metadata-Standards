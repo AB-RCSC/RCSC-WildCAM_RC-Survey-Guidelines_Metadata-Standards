{
 "cells": [
  {
   "cell_type": "markdown",
   "id": "09a1a12e",
   "metadata": {},
   "source": [
    "# Remote Camera Survey Guidelines & AB Metadata Standards\n",
    "\n",
    "-----------------------------------------------------------------------------------------------------------------------------------  \n",
    "\n",
    "**Download the files & Access the templates**  \n",
    "\n",
    "[Download everything](./1_survey-guidelines/files-1_survey-guidelines/downloadable/RC-Survey-Guidelines-v1_AB-Metadata-Standards-v2_2023-08-23.zip)\n",
    "\n",
    ":::{dropdown} Remote Camera Survey Guidelines: Guidelines for Western Canada\n",
    "\n",
    "(#remote-cam-survey-guidelines)=\n",
    "[Remote Camera Survey Guidelines: Guidelines for Western Canada v1 (RCSC et al., 2023)](./1_survey-guidelines/files-1_survey-guidelines/downloadable/Remote-Camera-Survey-Guidelines-v1-(RCSC-et-al.,-2023)_2023-08-23.pdf)\n",
    "\n",
    "(#camera-deployment-field-datasheet)=\n",
    "[Remote Camera Survey Guidelines: Camera Deployment Field Datasheet (RCSC et al., 2023)](./1_survey-guidelines/files-1_survey-guidelines/downloadable/Deployment-Field-Datasheet_RC-Survey-Guidelines-v1_2023-07-13.pdf)\n",
    "\n",
    "(#test-image-sheet)=\n",
    "[Remote Camera Survey Guidelines: Test Image Sheet (RCSC et al., 2023)](./1_survey-guidelines/files-1_survey-guidelines/downloadable/Test-Image-Sheet_RC-Survey-Guidelines-v1_2023-07-13.pdf)\n",
    "\n",
    "(#camera-service-retrieval-field-datasheet)=\n",
    "[Remote Camera Survey Guidelines: Camera Service/Retrieval Field Datasheet (RCSC et al., 2023)](./1_survey-guidelines/files-1_survey-guidelines/downloadable/Service-Retrieval-Field-Datasheet_RC-Survey-Guidelines-v1_2023-07-13.pdf)\n",
    "\n",
    "(#epicollect-template)=\n",
    "[Remote Camera Survey Guidelines: EpiCollect Template (RCSC et al., 2023)](https://five.epicollect.net/project/rcsc-and-wildcam-remote-camera-survey-guidelines)\n",
    ":::  \n",
    "\n",
    "\n",
    "\n",
    "-----------------------------------------------------------------------------------------------------------------------------------  \n",
    "  \n",
    "\n",
    "\n",
    ":::{dropdown} Remote Camera Metadata Standards: Standards for Alberta\n",
    "\n",
    "(#ab-metadata-standards)=\n",
    "[Remote Camera Metadata Standards: Standards for Alberta v2 (RCSC, 2023)](./2_metadata-standards/files-2_metadata-standards/downloadable/AB-Remote-Camera-Metadata-Standards-v2-(RCSC,-2023)_2023-08-23.pdf)\n",
    "\n",
    "(#metadata-template)=\n",
    "[Alberta Remote Camera Metadata Standards: Metadata Template (RCSC, 2023)](./2_metadata-standards/files-2_metadata-standards/downloadable/Remote-Camera-Metadata-Template-v1-(RCSC,-2023)_2023-07-13.xlsm)\n",
    "\n",
    ":::\n",
    "\n",
    "***\n",
    "\n",
    "```{tableofcontents}\n",
    "```"
   ]
  }
 ],
 "metadata": {
  "editor_options": {
   "markdown": {
    "wrap": 300
   }
  },
  "jupytext": {
   "formats": "md:myst",
   "text_representation": {
    "extension": ".md",
    "format_name": "myst",
    "format_version": "0.17.2",
    "jupytext_version": "6.5.4"
   }
  },
  "kernelspec": {
   "display_name": "Python 3",
   "language": "python",
   "name": "python3"
  },
  "language_info": {
   "codemirror_mode": {
    "name": "ipython",
    "version": 3
   },
   "file_extension": ".py",
   "mimetype": "text/x-python",
   "name": "python",
   "nbconvert_exporter": "python",
   "pygments_lexer": "ipython3",
   "version": "3.11.4"
  },
  "source_map": [
   16
  ]
 },
 "nbformat": 4,
 "nbformat_minor": 5
}