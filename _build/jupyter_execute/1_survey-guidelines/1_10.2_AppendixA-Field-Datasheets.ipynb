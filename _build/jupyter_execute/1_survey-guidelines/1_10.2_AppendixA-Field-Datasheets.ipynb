{
 "cells": [
  {
   "cell_type": "markdown",
   "id": "463ec26b",
   "metadata": {},
   "source": [
    "(#TOC-survey-guidelines-appendix-a-field-datasheets)=\n",
    "\n",
    "# Appendix A - Field Datasheets\n",
    "\n",
    "***  \n",
    "\n",
    "**Camera Deployment Field Datasheet** \n",
    "\n",
    "<object data=\"https://cassstevenson.github.io/RCSC-WildCAM_Remote-Camera-Survey-Guidelines-and-Metadata-Standards/_downloads/fbd6cab21bc362a528b90a7e15de6952/Deployment-Field-Datasheet_RC-Survey-Guidelines-v1_2023-07-13.pdf\" type=\"application/pdf\" width=\"880px\" height=\"1130px\">\n",
    "    <embed src=\"https://cassstevenson.github.io/RCSC-WildCAM_Remote-Camera-Survey-Guidelines-and-Metadata-Standards/_downloads/fbd6cab21bc362a528b90a7e15de6952/Deployment-Field-Datasheet_RC-Survey-Guidelines-v1_2023-07-13.pdf\">\n",
    "        <p>This browser does not support PDFs. Please download the PDF to view it: <a href=\"https://cassstevenson.github.io/RCSC-WildCAM_Remote-Camera-Survey-Guidelines-and-Metadata-Standards/_downloads/fbd6cab21bc362a528b90a7e15de6952/Deployment-Field-Datasheet_RC-Survey-Guidelines-v1_2023-07-13.pdf\">Download PDF</a>.</p>\n",
    "    </embed>\n",
    "</object>  \n",
    "<br/><br/>\n",
    "\n",
    "*Download the PDF*\n",
    "[Remote Camera Survey Guidelines: Camera Deployment Field Datasheet (RCSC et al., 2023)](./files-1_survey-guidelines/downloadable/Deployment-Field-Datasheet_RC-Survey-Guidelines-v1_2023-07-13.pdf)\n",
    "\n",
    "***  \n",
    "\n",
    "**Test Image Sheet** \n",
    "\n",
    "<object data=\"https://cassstevenson.github.io/RCSC-WildCAM_Remote-Camera-Survey-Guidelines-and-Metadata-Standards/_downloads/8210acdeba3cf384a8daf38c16d0f72a/Test-Image-Sheet_RC-Survey-Guidelines-v1_2023-07-13.pdf\" type=\"application/pdf\" width=\"1000px\" height=\"820px\">\n",
    "    <embed src=\"https://cassstevenson.github.io/RCSC-WildCAM_Remote-Camera-Survey-Guidelines-and-Metadata-Standards/_downloads/8210acdeba3cf384a8daf38c16d0f72a/Test-Image-Sheet_RC-Survey-Guidelines-v1_2023-07-13.pdf\">\n",
    "        <p>This browser does not support PDFs. Please download the PDF to view it: <a href=\"https://cassstevenson.github.io/RCSC-WildCAM_Remote-Camera-Survey-Guidelines-and-Metadata-Standards/_downloads/8210acdeba3cf384a8daf38c16d0f72a/Test-Image-Sheet_RC-Survey-Guidelines-v1_2023-07-13.pdf\">Download PDF</a>.</p>\n",
    "    </embed>\n",
    "</object>   \n",
    "<br/><br/>\n",
    "\n",
    "*Download the PDF*\n",
    "[Remote Camera Survey Guidelines: Test Image Sheet (RCSC et al., 2023)](./files-1_survey-guidelines/downloadable/Test-Image-Sheet_RC-Survey-Guidelines-v1_2023-07-13.pdf)\n",
    "\n",
    "***  \n",
    "\n",
    "**Camera Service/Retrieval Field Datasheet** \n",
    "\n",
    "<object data=\"https://cassstevenson.github.io/RCSC-WildCAM_Remote-Camera-Survey-Guidelines-and-Metadata-Standards/_downloads/d411a5c5c5b95045216954417639606b/Service-Retrieval-Field-Datasheet_RC-Survey-Guidelines-v1_2023-07-13.pdf\" type=\"application/pdf\" width=\"880px\" height=\"1130px\">\n",
    "    <embed src=\"https://cassstevenson.github.io/RCSC-WildCAM_Remote-Camera-Survey-Guidelines-and-Metadata-Standards/_downloads/d411a5c5c5b95045216954417639606b/Service-Retrieval-Field-Datasheet_RC-Survey-Guidelines-v1_2023-07-13.pdf\">\n",
    "        <p>This browser does not support PDFs. Please download the PDF to view it: <a href=\"https://cassstevenson.github.io/RCSC-WildCAM_Remote-Camera-Survey-Guidelines-and-Metadata-Standards/_downloads/d411a5c5c5b95045216954417639606b/Service-Retrieval-Field-Datasheet_RC-Survey-Guidelines-v1_2023-07-13.pdf\">Download PDF</a>.</p>\n",
    "    </embed>\n",
    "</object> \n",
    "<br/><br/>\n",
    "\n",
    "*Download the PDF*\n",
    "[Remote Camera Survey Guidelines: Camera Service/Retrieval Field Datasheet (RCSC et al., 2023)](./files-1_survey-guidelines/downloadable/Service-Retrieval-Field-Datasheet_RC-Survey-Guidelines-v1_2023-07-13.pdf)\n",
    "\n",
    "***"
   ]
  }
 ],
 "metadata": {
  "editor_options": {
   "markdown": {
    "wrap": 300
   }
  },
  "jupytext": {
   "formats": "md:myst",
   "text_representation": {
    "extension": ".md",
    "format_name": "myst",
    "format_version": "0.17.2",
    "jupytext_version": "6.5.4"
   }
  },
  "kernelspec": {
   "display_name": "Python 3",
   "language": "python",
   "name": "python3"
  },
  "language_info": {
   "codemirror_mode": {
    "name": "ipython",
    "version": 3
   },
   "file_extension": ".py",
   "mimetype": "text/x-python",
   "name": "python",
   "nbconvert_exporter": "python",
   "pygments_lexer": "ipython3",
   "version": "3.11.5"
  },
  "source_map": [
   17
  ]
 },
 "nbformat": 4,
 "nbformat_minor": 5
}