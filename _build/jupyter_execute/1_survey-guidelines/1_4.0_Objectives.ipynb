{
 "cells": [
  {
   "cell_type": "markdown",
   "id": "74052072",
   "metadata": {},
   "source": [
    "(#TOC-survey-guidelines-objectives)=\n",
    "# 4.0 Objectives\n",
    "\n",
    "An essential first step when designing any [survey](#Hierarch_Survey) is to clearly define its [objectives](#Survey_objectives). [Survey Objectives](#Survey_objectives) should be specific, measurable, achievable, relevant and time-bound (i.e., SMART). [Survey Objectives](#Survey_objectives) should describe the following:\n",
    "\n",
    "-   [Target Species](#Target_species) - the specie(s) that the [survey](#Hierarch_Survey) is designed to detect,\n",
    "-   [state variable(s)](#State_variable) - a formal measure that summarizes the state of a community or population at a particular time (Wearn & Glover-Kapfer, 2017) (e.g., species richness or population abundance), and\n",
    "-   proposed [modelling approach(es)](#Mods_Modelling_approach) - the method used to analyze the camera data that will also depend on the [state variable](#State_variable) (e.g., [occupancy models](#Mods_Occupancy_model) [MacKenzie et al., 2002], [spatially explicit capture-recapture (SECR) models](#Mods_SCR_SECR) [e.g., Royle et al., 2009] for [density](#density) estimation, etc.). To learn more about the different [modelling approaches](#Mods_Modelling_approach), refer to [Appendix A - Table A1](#survey-guidelines-appendix-a-table-a-1), and [Appendix A - Table A2](#survey-guidelines-appendix-a-table-a-2) and the [WildCAM's resource library](https://wildcams.ca/library/camera-trapping-papers-directory/).\n",
    "\n",
    "An example of a clearly defined [survey objective](#Survey_objectives) could be \"to monitor trends in wolverine [occupancy](#Occupancy) at 5-year intervals from March -- December 2020 to 2030 in wildlife management unit 539\".\n",
    "\n",
    "The [survey objective](#Survey_objectives) will determine the appropriate [study design](#Hierarch_Survey) and [deployment](#Heirch_Deployment) considerations (e.g., [camera spacing](#Camera_spacing), [survey](#Hierarch_Survey) effort, attractants or not). For example, based on the above objective for our wolverine [occupancy](#Occupancy) [project](#Heirch_Project), we \"randomly selected [camera location](#Heirch_Camera_location)s within a 15 km x 15 km grid cell with one camera per location and a total of 60 stations across our [study area](#Hierarch_Study_area). We will place [lure](#BaitLure_Lure) dispensers at each [camera location](#Heirch_Camera_location) to increase the likelihood of detecting a wolverine.\" to increase the likelihood of detecting a wolverine.\""
   ]
  }
 ],
 "metadata": {
  "editor_options": {
   "markdown": {
    "wrap": 300
   }
  },
  "jupytext": {
   "formats": "md:myst",
   "text_representation": {
    "extension": ".md",
    "format_name": "myst",
    "format_version": "0.17.2",
    "jupytext_version": "6.5.4"
   }
  },
  "kernelspec": {
   "display_name": "Python 3",
   "language": "python",
   "name": "python3"
  },
  "language_info": {
   "codemirror_mode": {
    "name": "ipython",
    "version": 3
   },
   "file_extension": ".py",
   "mimetype": "text/x-python",
   "name": "python",
   "nbconvert_exporter": "python",
   "pygments_lexer": "ipython3",
   "version": "3.11.3"
  },
  "source_map": [
   17
  ]
 },
 "nbformat": 4,
 "nbformat_minor": 5
}