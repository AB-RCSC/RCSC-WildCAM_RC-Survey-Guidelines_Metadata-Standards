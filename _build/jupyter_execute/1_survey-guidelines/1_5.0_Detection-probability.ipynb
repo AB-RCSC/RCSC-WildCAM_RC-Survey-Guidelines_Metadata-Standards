{
 "cells": [
  {
   "cell_type": "markdown",
   "id": "70d8d3e6",
   "metadata": {},
   "source": [
    "(#TOC-survey-guidelines-detection-probability)=\n",
    "\n",
    "# 5.0 Detection probability\n",
    "\n",
    "Before study design choices are made, there is one critical concept to understand in remote camera research, which may impact study design choices at all levels of the data hierarchy. Reliable use of remote cameras to detect wildlife species hinges on the [assumption](#Mods_Modelling_assumption) that what is captured on the cameras accurately reflects what is present on the landscape. However, species are often detected \"imperfectly,\" meaning that they are not always detected when they are present (i.e., [imperfect detection](#Imperfect_detection); MacKenzie et al., 2004). [Imperfect detection](#Imperfect_detection) can occur because the camera failed to capture an individual present at the site or because the animal was simply not present during the [survey](#Hierarch_Survey) period (Martin et al., 2005). [Imperfect detection](#Imperfect_detection) results in \"false absences\" and may lead to incorrect conclusions from the data. Understanding and correcting for sources of \"false absences\" is often thought of in terms of probabilities. [Detection probability](#Detection_probability) is the probability (likelihood) that an individual of the population of interest is included in the count at time or location i (MacKenzie & Kendall, 2002). [Detection probability](#Detection_probability) can be influenced through multiple processes and at multiple scales. Understanding the sources of \"false absences\" and factors that affect [detection probabilities](#Detection_probability) is an essential step when designing a study, deploying cameras and analyzing camera data.\n",
    "\n",
    "Detection probability of an animal by a camera depends on three **conditional probabilities (Pr)** **of detection** that may operate alone or potentially, in combination ([Figure 1](#survey-guidelines-figure-1)).\n",
    "\n",
    "(#survey-guidelines-figure-1)=\n",
    "\n",
    "```{figure} ./files-1_survey-guidelines/figures/SurveyGuidelines_Detection-probability-2023-05-04.jpg\n",
    ":height: 700px\n",
    ":align: center\n",
    "```\n",
    "\n",
    "**Figure 1.** Three conditional probabilities (Pr) of detection that may impact detection probability of an animal (or species) by a camera (adapted from Moeller et al. [2023], Hofmeester et al. [2019], and Findlay et al. [2020]).\n",
    "\n",
    "Detection probability can be affected by species-specific characteristics, [Camera Model](#Camera_model) specifications and set-up, and environmental variables (Hofmeester et al., 2019). For example, **species-specific characteristics** (individuals or populations), such as body size (e.g., O'Brien et al., 2011), behaviour (e.g., Caravaggi et al., 2020; Rowcliffe et al., 2011), and rarity can influence [detection probability](#Detection_probability), with larger, bolder and more common species generally having higher [detection rates](#Detection_rate). [**Camera Model**](#Camera_model), specifications and set-up, such as the [Trigger Sensitivity](#Settings_Trigger_sensitivity), [**Camera Height**](#Camera_height), or [**angle**](#Camera_angle) may affect [detection probability](#Detection_probability) in that smaller species might not be detected or identifiable if the [Trigger Sensitivity](#Settings_Trigger_sensitivity) is low, or the [Camera Height](#Camera_height) or [angle](#Camera_angle) is too high. The [**Camera Direction**](#Camera_direction) could impact the probability of an animal triggering a camera if it is directed towards an object that impedes the [Field of View (FOV)](#Field_of_view) or image quality (e.g. due to sun glare). **Environmental factors** (e.g., vegetation cover, snow depth) may affect [detection probability](#Detection_probability) and occurrence (e.g., Becker et al., 2022; Hofmeester et al., 2019; Iknayan et al., 2014; Steenweg et al., 2019). For example, a low number of detections in a densely vegetated site might be because of poor camera visibility or avoidance of this habitat by the species of interest.\n",
    "\n",
    "Hofmeester et al. (2019) suggested there are **six scales (orders) that may impact** [detection probability](#Detection_probability) and that should be considered within an explicit time period (adapted from Hofmeester et al. [2019]; [Figure 2](#survey-guidelines-figure-2)):\n",
    "\n",
    "1)  **Distribution range** (1st order; i.e., the physical or geographical range of a species)\n",
    "\n",
    "2)  **Landscape** (2nd order; i.e., the location of an individual's home range within the geographic range)\n",
    "\n",
    "3)  **Habitat patch** (3rd order; i.e., usage of habitat components within an individual's home range)\n",
    "\n",
    "4)  **Microsite** (4th order; usage of microhabitats such as food items/feeding patches/nest sites/movement trails, etc. within a habitat)\n",
    "\n",
    "5)  **Camera specification / set-up** (5th order; i.e., factors that affect the probability that an animal [triggers](#Trigger_event) the camera if present)\n",
    "\n",
    "6)  **Image** (6th order; i.e., factors that affect correct identification of animals or individuals)\n",
    "\n",
    "(#survey-guidelines-figure-2)=\n",
    "\n",
    "```{figure} ./files-1_survey-guidelines/figures/Survey-guidelines_DetectionProb_SCALE_Hofmeester-et-al.,-2019.png\n",
    ":height: 600px\n",
    ":align: center\n",
    "```  \n",
    "\n",
    "**Figure 2.** Spatial scales (1-6) and processes that determine the probability of detection (Hofmeester et al., 2019; abbreviated figure caption).\n",
    "\n",
    "It is important to consider how all these factors and scales will impact study design.\n",
    "\n",
    "Unmeasured variation in [detection probability](#Detection_probability) can result in the inability to differentiate the effects of [detection probability](#Detection_probability) *vs.* habitat preference (Jennelle et al., 2002) and, in turn, cause erroneous estimates of occurrence and abundance\n",
    "(Burton et al., 2015; Dénes et al., 2015; Kays et al., 2021).\n",
    "\n",
    "Factors that influence [detection probability](#Detection_probability) at the microsite and camera specification / set-up scales are likely to result in the largest biases and thus warrant the most consideration (see Hofmeester et al. [2019] for details). Therefore, it is particularly important to\n",
    "consider *how* to place cameras to avoid such biases. Deploying cameras in a consistent fashion (e.g., carefully ensuring that cameras are always set at the same [Camera Height](#Camera_height), orientation (direction), and [angle](#Camera_angle)) is essential.\n",
    "\n",
    "\n",
    "::::{grid} 1 1 2 3\n",
    "\n",
    ":::{card}\n",
    ":header: Text content ✏️\n",
    "Structure books with text files and Jupyter Notebooks with minimal configuration.\n",
    ":::\n",
    "\n",
    ":::{card}\n",
    ":header: MyST Markdown ✨\n",
    "Write MyST Markdown to create enriched documents with publication-quality features.\n",
    ":::\n",
    "\n",
    ":::{card}\n",
    ":header: Executable content 🔁\n",
    "Execute notebook cells, store results, and insert outputs across pages.\n",
    ":::\n",
    "::::\n",
    "\n",
    "\n",
    ":::{dropdown} Remote Camera Survey Guidelines: Guidelines for Western Canada\n",
    ":::"
   ]
  }
 ],
 "metadata": {
  "editor_options": {
   "markdown": {
    "wrap": 300
   }
  },
  "jupytext": {
   "formats": "md:myst",
   "text_representation": {
    "extension": ".md",
    "format_name": "myst",
    "format_version": "0.17.2",
    "jupytext_version": "6.5.4"
   }
  },
  "kernelspec": {
   "display_name": "Python 3",
   "language": "python",
   "name": "python3"
  },
  "language_info": {
   "codemirror_mode": {
    "name": "ipython",
    "version": 3
   },
   "file_extension": ".py",
   "mimetype": "text/x-python",
   "name": "python",
   "nbconvert_exporter": "python",
   "pygments_lexer": "ipython3",
   "version": "3.11.4"
  },
  "source_map": [
   17
  ]
 },
 "nbformat": 4,
 "nbformat_minor": 5
}