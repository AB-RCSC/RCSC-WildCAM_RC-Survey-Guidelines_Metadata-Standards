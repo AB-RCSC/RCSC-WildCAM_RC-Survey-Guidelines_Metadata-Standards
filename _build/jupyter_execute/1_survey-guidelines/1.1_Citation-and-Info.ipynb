{
 "cells": [
  {
   "cell_type": "markdown",
   "id": "d16e02b6",
   "metadata": {},
   "source": [
    "# Citation & Information\n",
    "\n",
    "<center>\n",
    "\n",
    "<font size=\"8\">**Remote Camera Survey Guidelines**</font>\\\n",
    "\\\n",
    "\\\n",
    "<font size=\"5\"> **Guidelines for Western Canada**</font>\\\n",
    "\\\n",
    "\\\n",
    "2023\\\n",
    "\\\n",
    "\\\n",
    "Version 1.0\n",
    "\n",
    "\\\n",
    "\\\n",
    "\\\n",
    "\\\n",
    "\\\n",
    "\\\n",
    "\\\n",
    "Prepared by\\\n",
    "\\\n",
    "Cassondra Stevenson and Anne Hubbs\\\n",
    "\\\n",
    "on behalf of the\\\n",
    "\\\n",
    "Alberta Remote Camera Steering Committee (RCSC) &\n",
    "\n",
    "Wildlife Cameras for Adaptive Management (WildCAM)\n",
    "\n",
    "</center>\n",
    "\n",
    "\\\n",
    "\\\n",
    "\\\n",
    "\\\n",
    "\\\n",
    "\\\n",
    "**Remote Camera Survey Guidelines: Guidelines for Western Canada**\n",
    "\n",
    "Published by the Alberta Remote Camera Steering Committee (RCSC) and Wildlife Cameras for Adaptive Management (WildCAM)\n",
    "\n",
    "Prepared by Cassondra Stevenson and Anne Hubbs on behalf of the RCSC and WildCAM\\\n",
    "\n",
    "**Citation for this document:**\n",
    "\n",
    "Alberta Remote Camera Steering Committee (RCSC), Stevenson, C., Hubbs, A., & Wildlife Cameras for Adaptive Management (WildCAM), (2023). Remote Camera Survey Guidelines: Guidelines for Western Canada. Edmonton, Alberta.\n",
    "\n",
    "© Alberta Remote Camera Steering Committee\\\n",
    "\\\n",
    "\\\n",
    "For more information about these guidelines or regarding the Alberta Remote Camera Steering Committee, please email [Anne.Hubbs\\@gov.ab.ca](mailto:Anne.Hubbs@gov.ab.ca){.email}.\n",
    "\n",
    "To learn more about Wildlife Cameras for Adaptive Management (WildCAM), please visit the [WildCAM website](https://www.wildcams.ca) (<https://www.wildcams.ca>).\n",
    "\n",
    "For further information about The Fisheries and Wildlife Management Information System (FWMIS), please visit the [FWMIS website](https://www.alberta.ca/fisheries-and-wildlife-management-information-system-overview.aspx) (<https://www.alberta.ca/fisheries-and-wildlife-management-information-system-overview.aspx>).\n",
    "\n",
    "For further information about WildTrax, please visit the [WildTrax website](http://www.wildtrax.ca/) (<http://www.wildtrax.ca/>)."
   ]
  }
 ],
 "metadata": {
  "editor_options": {
   "markdown": {
    "wrap": 300
   }
  },
  "jupytext": {
   "formats": "md:myst",
   "text_representation": {
    "extension": ".md",
    "format_name": "myst",
    "format_version": 0.13,
    "jupytext_version": "1.11.5"
   }
  },
  "kernelspec": {
   "display_name": "Python 3",
   "language": "python",
   "name": "python3"
  },
  "language_info": {
   "codemirror_mode": {
    "name": "ipython",
    "version": 3
   },
   "file_extension": ".py",
   "mimetype": "text/x-python",
   "name": "python",
   "nbconvert_exporter": "python",
   "pygments_lexer": "ipython3",
   "version": "3.11.3"
  },
  "source_map": [
   17
  ]
 },
 "nbformat": 4,
 "nbformat_minor": 5
}