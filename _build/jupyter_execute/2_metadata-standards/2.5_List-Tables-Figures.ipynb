{
 "cells": [
  {
   "cell_type": "markdown",
   "id": "e8abacad",
   "metadata": {},
   "source": [
    "(#TOC-metadata-standards-list-of-tables-and-list-of-figures)=\n",
    "# List of Tables & List of Figures\n",
    "\n",
    "(#TOC-metadata-standards-list-of-tables)=\n",
    "## List of Tables\n",
    "\n",
    "[**Appendix A - Table A1.** Metadata crosswalk table showing the corresponding fields used in this Alberta Metadata Standard (2023), and other standards used in Western Canada. An asterisk (\\*) denotes an optional field. Hierarchical levels are shown in bold font above each section.](#metadata-standards-appendix-a-tables-a1)\n",
    "\n",
    "[**Appendix A - Table A2.** Overview of the structure of the RCSC et al's Remote Camera Metadata Template (2023) including both the data fields recommended by the Remote Camera Survey Guidelines: Guidelines for Western Canada (RCSC et al., 2023) and these metadata standards.](#metadata-standards-appendix-a-tables-a2)\n",
    "\n",
    "\n",
    "(#TOC-metadata-standards-list-of-figures)=\n",
    "## List of Figures\n",
    "\n",
    "[**Figure 1.** Hierarchical structure of remote camera data in the Remote Camera Metadata Standards for Alberta. Based on Forrester et al. (2016), [Wildlife Insights Minimum Metadata Standards](https://docs.google.com/spreadsheets/d/1Jg-WybmVeGlWGrbPpwuwJCgranOV1r3M_LrzELttfK0/edit#gid=412365965)\n",
    "(Ahumada et al., 2019) and the [B.C. Metadata Standards](https://www2.gov.bc.ca/assets/gov/environment/natural-resource-stewardship/nr-laws-policy/risc/wcmp_v1.pdf) (RISC, 2019).](#metadata-standards-figure-1)\n",
    "\n",
    "[**Figure 2.** Example of the recommended file structure and naming conventions for a project that consisted of two study areas, each with one survey and each survey with two camera locations with one deployment period and 2 sequences per camera location.](#metadata-standards-figure-2)\n",
    "\n",
    "[**Figure 3.** The hierarchical structure of remote camera data in the Remote Camera Metadata Standards for Alberta (based on Forrester et al. [2016], [Wildlife Insights Minimum Metadata Standards](https://docs.google.com/spreadsheets/d/1Jg-WybmVeGlWGrbPpwuwJCgranOV1r3M_LrzELttfK0/edit#gid=412365965)\n",
    "[Ahumada et al., 2019] and the [B.C. Metadata Standards](https://www2.gov.bc.ca/assets/gov/environment/natural-resource-stewardship/nr-laws-policy/risc/wcmp_v1.pdf) [RISC, 2019]) and the linkages with and within the four CSVs included in these metadata standards (\"Project CSV,\" \"Sample\n",
    "Station/Camera Location CSV,\" \"Deployment CSV,\" and the \"Image/Sequence CSV\").](#metadata-standards-figure-3)"
   ]
  }
 ],
 "metadata": {
  "editor_options": {
   "markdown": {
    "wrap": 300
   }
  },
  "jupytext": {
   "formats": "md:myst",
   "text_representation": {
    "extension": ".md",
    "format_name": "myst",
    "format_version": 0.13,
    "jupytext_version": "1.11.5"
   }
  },
  "kernelspec": {
   "display_name": "Python 3",
   "language": "python",
   "name": "python3"
  },
  "language_info": {
   "codemirror_mode": {
    "name": "ipython",
    "version": 3
   },
   "file_extension": ".py",
   "mimetype": "text/x-python",
   "name": "python",
   "nbconvert_exporter": "python",
   "pygments_lexer": "ipython3",
   "version": "3.11.3"
  },
  "source_map": [
   17
  ]
 },
 "nbformat": 4,
 "nbformat_minor": 5
}