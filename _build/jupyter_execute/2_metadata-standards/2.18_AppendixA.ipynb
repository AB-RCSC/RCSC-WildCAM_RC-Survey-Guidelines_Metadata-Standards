{
 "cells": [
  {
   "cell_type": "markdown",
   "id": "eafdce53",
   "metadata": {},
   "source": [
    "(#TOC-metadata-standards-appendix-a)=\n",
    "\n",
    "# Appendix A\n",
    "\n",
    "(#metadata-standards-appendix-a-table-a-1)=\n",
    "\n",
    "## Appendix A - Table A1\n",
    "\n",
    "**Appendix A - Table A1.** Metadata crosswalk table showing the corresponding fields used in this Alberta Metadata Standard (2023), and other standards used in Western Canada. An asterisk (\\*) denotes an optional field. Hierarchical levels are shown in bold font above each section.  \n",
    "\n",
    "```{figure} ./files-2_metadata-standards/tables/AB-metadata-Appendix-A-Table-1A.png\n",
    ":width: 900px\n",
    ":align: center\n",
    "```\n",
    "```{figure} ./files-2_metadata-standards/tables/AB-metadata-Appendix-A-Table-1B.png\n",
    ":width: 900px\n",
    ":align: center\n",
    "```\n",
    "```{figure} ./files-2_metadata-standards/tables/AB-metadata-Appendix-A-Table-1C.png\n",
    ":width: 900px\n",
    ":align: center\n",
    "```  \n",
    "```{figure} ./files-2_metadata-standards/tables/AB-metadata-Appendix-A-Table-1D.png\n",
    ":width: 900px\n",
    ":align: center\n",
    "``` \n",
    "\n",
    "*View the PDF*\n",
    "[AB Remote Camera Metadata Standards: Appendix A - Table A1](./files-2_metadata-standards/tables/Appendix-A-Table-A1.pdf)\n",
    "\n",
    "\n",
    "(#metadata-standards-appendix-a-table-a-2)=\n",
    "\n",
    "## Appendix A - Table A2\n",
    "\n",
    "**Appendix A - Table A2.** Overview of the structure of the RCSC et al's [Remote Camera Metadata Template (RCSC et al., 2023)](#metadata-template) including both the data fields recommended by the [Remote Camera Survey Guidelines: Guidelines for Western Canada (RCSC et al., 2023)](#remote-cam-survey-guidelines) and these metadata standards.\n",
    "\n",
    "\n",
    "```{figure} ./files-2_metadata-standards/tables/AB-metadata-Appendix-A-Table-2A.png\n",
    ":width: 1000px\n",
    ":align: center\n",
    "```\n",
    "```{figure} ./files-2_metadata-standards/tables/AB-metadata-Appendix-A-Table-2B.png\n",
    ":width: 1000px\n",
    ":align: center\n",
    "```\n",
    "```{figure} ./files-2_metadata-standards/tables/AB-metadata-Appendix-A-Table-2C.png\n",
    ":width: 1000px\n",
    ":align: center\n",
    "```\n",
    "```{figure} ./files-2_metadata-standards/tables/AB-metadata-Appendix-A-Table-2D.png\n",
    ":width: 1000px\n",
    ":align: center\n",
    "```\n",
    "```{figure} ./files-2_metadata-standards/tables/AB-metadata-Appendix-A-Table-2E.png\n",
    ":width: 1000px\n",
    ":align: center\n",
    "```\n",
    "```{figure} ./files-2_metadata-standards/tables/AB-metadata-Appendix-A-Table-2F.png\n",
    ":width: 1000px\n",
    ":align: center\n",
    "```\n",
    "```{figure} ./files-2_metadata-standards/tables/AB-metadata-Appendix-A-Table-2G.png\n",
    ":width: 1000px\n",
    ":align: center\n",
    "```  \n",
    "\n",
    "*View the PDF*\n",
    "[AB Remote Camera Metadata Standards: Appendix A - Table A2](./files-2_metadata-standards/tables/Appendix-A-Table-A2.pdf)"
   ]
  }
 ],
 "metadata": {
  "editor_options": {
   "markdown": {
    "wrap": 300
   }
  },
  "jupytext": {
   "formats": "md:myst",
   "text_representation": {
    "extension": ".md",
    "format_name": "myst",
    "format_version": "0.17.2",
    "jupytext_version": "6.5.4"
   }
  },
  "kernelspec": {
   "display_name": "Python 3",
   "language": "python",
   "name": "python3"
  },
  "language_info": {
   "codemirror_mode": {
    "name": "ipython",
    "version": 3
   },
   "file_extension": ".py",
   "mimetype": "text/x-python",
   "name": "python",
   "nbconvert_exporter": "python",
   "pygments_lexer": "ipython3",
   "version": "3.11.3"
  },
  "source_map": [
   17
  ]
 },
 "nbformat": 4,
 "nbformat_minor": 5
}