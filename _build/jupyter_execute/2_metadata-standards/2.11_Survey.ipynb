{
 "cells": [
  {
   "cell_type": "markdown",
   "id": "c33bf9aa",
   "metadata": {},
   "source": [
    "(#TOC-metadata-standards-surveys)=\n",
    "\n",
    "# 6.0 Surveys\n",
    "\n",
    "A [survey](#Hierarch_Survey) is a unique [deployment](#Heirch_Deployment) period (temporal extent) within a [project](#Heirch_Project). There may be multiple [surveys](#Hierarch_Survey) in a single [project](#Heirch_Project). However, if multiple [surveys](#Hierarch_Survey) are completed in the same [study area](#Hierarch_Study_area) and following the same [Survey Design](#SurveyDesign) and methods of data collection, the [project](#Heirch_Project) and [survey](#Hierarch_Survey) information may be the same. If a [project](#Heirch_Project) includes more than one type of [survey](#Hierarch_Survey), each should be included separately, with a unique [Survey ID](#ID_survey) and [survey](#Hierarch_Survey)-specific information.\n",
    "\n",
    "(#TOC-metadata-standards-survey-id)=\n",
    "\n",
    "## 6.1 Survey ID\n",
    "\n",
    "A unique alphanumeric identifier for each [survey](#Hierarch_Survey) period (e.g., \"FORTMC_001\").\n",
    "\n",
    "(#TOC-metadata-standards-survey-objectives)=\n",
    "\n",
    "## 6.2 Survey Objectives\n",
    "\n",
    "Describe the specific objectives of each [survey](#Hierarch_Survey) within a [project](#Heirch_Project), including the variable of interest (e.g., [occupancy](#Occupancy), [density](#density)), and methods. [Survey Objectives](#Survey_objectives) should be specific, measurable, achievable, relevant, and time-bound (i.e., SMART).\n",
    "\n",
    "For example: \"Our [Survey Objective](#Survey_objectives) was to monitor trends in wolf [occupancy](#Occupancy) at 5-year intervals from January -- December 2020 to 2023 in the oils sands region in the northern boreal forest of Alberta.\"\n",
    "\n",
    "(#TOC-metadata-standards-target-species)=\n",
    "\n",
    "## 6.3 Target Species\n",
    "\n",
    "The capitalized common name(s) of the species that the [survey](#Hierarch_Survey) was designed to detect (e.g., \"COYOTE\" or \"COMMON GOLDENEYE\").\n",
    "\n",
    "If there is more than one [Target Species](#Target_species), list the species in alphabetical order (e.g., \"COYOTE, MOOSE, MULE DEER\"). Alternatively, use the genus common name where appropriate (e.g., \"GENUS ODOCOILEUS\" for mule and white-tailed deer).\n",
    "\n",
    "(#TOC-metadata-standards-survey-design)=\n",
    "\n",
    "## 6.4 Survey Design\n",
    "\n",
    "[Survey Design](#SurveyDesign) refers to the spatial arrangement of remote cameras within the [study area](#Hierarch_Study_area). Select **one** of the [Survey Designs](#SurveyDesign) from the list provided:\n",
    "\n",
    "-   **\"**[**Simple random**](#Sampledesign_random)**”** (randomized [camera locations](#Heirch_Camera_location))\n",
    "-   **\"**[**Systematic**](#SampleDesign_Systematic)**\"** (regular pattern - e.g., grid; across disturbance gradient or reference sites)\n",
    "-   **\"**[**Stratified**](#SampleDesign_Stratified)**\"** ([camera locations](#Heirch_Camera_location) in pre-defined \"strata\"; e.g., habitat types)\n",
    "-   **\"**[**Clustered**](#sampledesign_clustered)**\"** (multiple [camera locations](#Heirch_Camera_location) at a sample station; can be used with Systematic or [Stratified](#SampleDesign_Stratified) design)\n",
    "-   \"[**Paired**](#Sampledesign_paired)\" (two [camera locations](#Heirch_Camera_location) in close proximity to one another (\"paired cameras\"), or when one or more cameras are at two separate [camera locations](#Heirch_Camera_location) that are in close proximity or with some characteristics in common (\"paired sites\")\n",
    "-   **\"**[**Targeted**](#SampleDesign_Targeted)**\"** ([camera locations](#Heirch_Camera_location) with known or suspected high activity levels; e.g., game trails, mineral licks, etc.)\n",
    "-   **\"**[**Convenience**](#sampledesign_convenience)**\"** ([camera locations](#Heirch_Camera_location) based on logistic considerations; e.g., remoteness, access constraints, costs)<#sampledesign_convenience>\n",
    "-   **\"Hierarchical (Multiple)¶\"** (e.g., [Systematic](#SampleDesign_Systematic) and [Stratified](#SampleDesign_Stratified); describe in [Survey Design Description](#SurveyDesignDescription) field)\n",
    "-   **\"Other¶\"** (describe in [Survey Design Description](#SurveyDesignDescription) field)\n",
    "-   **\"Unknown\"**\n",
    "\n",
    "For additional information on [Survey Designs](#SurveyDesign), refer to the [Remote Camera Survey Guidelines (RCSC et al., 2023)](#remote-cam-survey-guidelines).\n",
    "\n",
    "(#TOC-metadata-standards-survey-design-description-optional)=\n",
    "\n",
    "## 6.5 Survey Design Description (optional)\n",
    "\n",
    "Describe any additional details about your [Survey Design](#SurveyDesign).\n",
    "\n",
    "If you selected the \"Hierarchical (multiple)\" option from the [Survey Design](#SurveyDesign) list, report all the [Survey Designs](#SurveyDesign) as a comma delimited list from larger to smaller spatial scales. To help parse out this information later most easily, we recommend using a format that includes a header followed by the various [Survey Designs](#SurveyDesign), e.g., \"[Survey Design](#SurveyDesign)[[Systematic](#SampleDesign_Systematic),[Convenience](#sampledesign_convenience)].\"\n",
    "\n",
    "For example: \"Our convenience sampling design consisted of one [camera location](#Heirch_Camera_location) within each township in our [study area](#Hierarch_Study_area); each [camera location](#Heirch_Camera_location) was within 100m of a secondary road or cutline; lure dispensers with Gorman's Gumbo (long line) were set-up at each [camera location](#Heirch_Camera_location) during initial camera [deployment](#Heirch_Deployment) and not revisited during the [survey](#Hierarch_Survey) period.\"\n",
    "\n",
    "If you selected the \"Other\" option from the [Survey Design](#SurveyDesign) list, provide information about the design used.\n",
    "\n",
    "If you set the [Event Type](#event-type) field to \"[Sequence](#Heirarch_Sequence),\" and are using a user-defined time threshold (OR \"[inter-detection interval](#Inter_detection_interval)\", e.g., 30 minutes) to define independent [detection \"events\"](#Detection_event) within a [sequence](#Heirarch_Sequence), report the [inter-detection interval](#Inter_detection_interval) (or \"sequence definition\") in the [Survey Design Description](#SurveyDesignDescription)n. Refer to the [Image/Sequence section](#TOC-metadata-standards-Image_Sequence) for further details.\n",
    "\n",
    "(#TOC-metadata-standards-event-type)=\n",
    "\n",
    "## 6.6 Event Type\n",
    "\n",
    "Report whether detections were reported as an individual image captured by the camera (\"Image\"), a \"[Sequence](#Heirarch_Sequence),\" or \"[Tag](#tag)\".\n",
    "\n",
    "A \"[Tag](#tag)\" refers to when individuals or groups of individuals are categorized within images, regardless of whether the information applies to all of the individuals in the image. A single [tag](#tag) is generally applied to one or more individuals with the same combination of characteristics (e.g., Adult Males displaying the same [Behaviour](#Behaviour). Conversely, individuals that have different characteristics would be given different [tags](#tag). For example, if the [Event Type](#event-type) is \"[Tag](#tag),\" two individuals with an image that are of different [Sex Classes](#Tags_Sex_class) would be categorized separately. This could also occur for [Age Class](#Tags_Age_class), [Behaviour](#Behaviour), [Human Transport Mode/Activity](#human-transport-mode-activity), etc. Since multiple [tags](#tag) can occur for a single image, there may be multiple data rows for the same image (if the [Event Type](#event-type) is at the \"[Tag](#tag)\" level)."
   ]
  }
 ],
 "metadata": {
  "editor_options": {
   "markdown": {
    "wrap": 300
   }
  },
  "jupytext": {
   "formats": "md:myst",
   "text_representation": {
    "extension": ".md",
    "format_name": "myst",
    "format_version": "0.17.2",
    "jupytext_version": "6.5.4"
   }
  },
  "kernelspec": {
   "display_name": "Python 3",
   "language": "python",
   "name": "python3"
  },
  "language_info": {
   "codemirror_mode": {
    "name": "ipython",
    "version": 3
   },
   "file_extension": ".py",
   "mimetype": "text/x-python",
   "name": "python",
   "nbconvert_exporter": "python",
   "pygments_lexer": "ipython3",
   "version": "3.11.3"
  },
  "source_map": [
   17
  ]
 },
 "nbformat": 4,
 "nbformat_minor": 5
}