{
 "cells": [
  {
   "cell_type": "markdown",
   "id": "a717c19c",
   "metadata": {},
   "source": [
    "(#TOC-survey-guidelines-design-hierarchy)=\n",
    "# 3.0 Design hierarchy\n",
    "\n",
    "When designing a remote camera [project](#Heirch_Project) (e.g., [inventory](#Mods_Inventory), monitoring, or research program), it is helpful to think of the hierarchy of information collected throughout the study. Doing so will:\n",
    "\n",
    "-   help the user align with the [AB Metadata Standards](https://www.wildtrax.ca/home/resources/methods-and-protocols.html) and [B.C. Metadata Standards (RISC, 2019), thus promoting standardized data collection and information sharing](https://www2.gov.bc.ca/assets/gov/environment/natural-resource-stewardship/nr-laws-policy/risc/wcmp_v1.pdf);\n",
    "-   provide those designing remote camera studies with the foundational concepts required to align their design with best practices and to implement appropriate data analyses.\n",
    "\n",
    "The AB Metadata Standards (RCSC, 2023) propose that data should be collected at six broad levels ([project](#Heirch_Project), [study area](#Hierarch_Study_area), [survey](#Hierarch_Survey), [sample station](#Heirch_Sample_station) / [camera location](#Heirch_Camera_location), [deployment](#Heirch_Deployment), and image/[sequence](#Heirarch_Sequence)). This hierarchy was adapted from Forrester et al. (2016) and the [B.C. Metadata Standards (RISC, 2019)](https://www2.gov.bc.ca/assets/gov/environment/natural-resource-stewardship/nr-laws-policy/risc/wcmp_v1.pdf) by adding one more level ([sample station](#Heirch_Sample_station) / [camera location](#Heirch_Camera_location)):\n",
    "\n",
    "-   **Project** -- a scientific study or [inventory](#Mods_Inventory)/ monitoring program that has a certain [objective](#Survey_objectives), defined methods, and a defined boundary in space and time (recorded as \"[Project ID](#ID_Project)\").\n",
    "-   **Study area** -- a unique research, [inventory](#Mods_Inventory) or monitoring area(s) (spatial boundary) within a [project](#Heirch_Project) (there may be multiple [study areas](#Hierarch_Study_area) within a single [project](#Heirch_Project)) (recorded as \"[Study Area ID](#ID_Study_area)\").\n",
    "-   **Survey** -- a unique period (temporal extent) within a [project](#Heirch_Project) (recorded as \"[Survey ID](#ID_survey)\").\n",
    "-   **Sample station / Camera location --**\n",
    "    -   **Sample station** -- a grouping of two or more non-independent [camera location](#Heirch_Camera_location)s such as when cameras are clustered or paired (recorded as \"[Sample Station ID](#ID_Sample_station_ID)\")\n",
    "    -   **Camera location** -- the location where a single camera was placed (recorded as \"[Camera Location ID](#ID_Camera_location)\").\n",
    "-   **Deployment** -- a unique placement of a camera in space and time (recorded as \"[Deployment ID](#ID_Deployment_ID)\"); there may be multiple deployments for one [camera location](#Heirch_Camera_location). Deployments are often considered as the time between visits (i.e., deployment to service, service to service, and service to retrieval). Any change to [camera location](#Heirch_Camera_location), sampling period, camera equipment (e.g., [Trigger Sensitivity](#Settings_Trigger_sensitivity) setting, becomes non-functioning), and/or conditions (e.g., not baited then baited later; camera SD card replaced) should be documented as a unique [deployment](#Heirch_Deployment).\n",
    "-   **Image/sequence**\n",
    "    -   **Image** -- an individual image captured by a camera, which may be part of a multi-image [sequence](#Heirarch_Sequence) (recorded as \"[Image ID](#ID_Image_ID)\").\n",
    "    -   **Sequence** -- a user-defined group of images or video clips considered as a single \"[detection event](#Detection_event)\" (recorded as\"[Sequence ID](#ID_Sequence_ID)); often users choose a certain time threshold (or \"[inter-detection interval](#Inter_detection_interval)\") to define [independent 'events'](#Detection_event). For example, 30 minutes (O'Brien et al., 2003; Gerber et al., 2010; Kitamura et al., 2010; Samejima et al., 2012) or 1 hour (e.g., Tobler et al., 2008; Rovero & Marshall, 2009). The threshold should be recorded in the [Survey Design Description](#SurveyDesignDescription)).\n",
    "\n",
    "::: {note}\n",
    "These levels do not equate to individual CSV files. Refer to the AB Metadata Standards (RCSC, 2023) for more information.\n",
    ":::"
   ]
  }
 ],
 "metadata": {
  "editor_options": {
   "markdown": {
    "wrap": 300
   }
  },
  "jupytext": {
   "formats": "md:myst",
   "text_representation": {
    "extension": ".md",
    "format_name": "myst",
    "format_version": 0.13,
    "jupytext_version": "1.11.5"
   }
  },
  "kernelspec": {
   "display_name": "Python 3",
   "language": "python",
   "name": "python3"
  },
  "language_info": {
   "codemirror_mode": {
    "name": "ipython",
    "version": 3
   },
   "file_extension": ".py",
   "mimetype": "text/x-python",
   "name": "python",
   "nbconvert_exporter": "python",
   "pygments_lexer": "ipython3",
   "version": "3.11.3"
  },
  "source_map": [
   17
  ]
 },
 "nbformat": 4,
 "nbformat_minor": 5
}