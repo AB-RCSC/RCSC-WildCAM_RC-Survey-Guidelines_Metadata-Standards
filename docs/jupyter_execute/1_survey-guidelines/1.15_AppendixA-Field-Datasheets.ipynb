{
 "cells": [
  {
   "cell_type": "markdown",
   "id": "56f75100",
   "metadata": {},
   "source": [
    "(#TOC-survey-guidelines-appendix-a-field-datasheets)=\n",
    "\n",
    "# Appendix A - Field Datasheets\n",
    "\n",
    "**Camera Deployment Field Datasheet**\n",
    "```{figure} ./files-1_survey-guidelines/datasheets/Deployment-Field-Datasheet-A.jpg\n",
    ":width: 1000px\n",
    ":align: center\n",
    "```\n",
    "```{figure} ./files-1_survey-guidelines/datasheets/Deployment-Field-Datasheet-B.jpg\n",
    ":width: 900px\n",
    ":align: center\n",
    "```  \n",
    "\n",
    "*View the PDF*\n",
    "[Remote Camera Survey Guidelines: Camera Deployment Field Datasheet (RCSC et al., 2023)](./files-1_survey-guidelines/downloadable/Deployment-Field-Datasheet_RC-Survey-Guidelines-v1_2023-07-13.pdf)\n",
    "\n",
    "***\n",
    "\n",
    "**Test Image Sheet** \n",
    "\n",
    "```{figure} ./files-1_survey-guidelines/datasheets/Test-Image-Sheet.jpg\n",
    ":height: 600px\n",
    ":align: center\n",
    "```  \n",
    "\n",
    "*View the PDF*\n",
    "[Remote Camera Survey Guidelines: Test Image Sheet (RCSC et al., 2023)](./files-1_survey-guidelines/downloadable/Test-Image-Sheet_RC-Survey-Guidelines-v1_2023-07-13.pdf)\n",
    "\n",
    "\n",
    "\n",
    "***\n",
    "\n",
    "**Camera Service/Retrieval Field Datasheet** \n",
    "```{figure} ./files-1_survey-guidelines/datasheets/Service-RetrievalField-Datasheet-A.jpg\n",
    ":height: 1000px\n",
    ":align: center\n",
    "```\n",
    "```{figure} ./files-1_survey-guidelines/datasheets/Service-RetrievalField-Datasheet-B.jpg\n",
    ":height: 900px\n",
    ":align: center\n",
    "```  \n",
    "\n",
    "*View the PDF*\n",
    "[Remote Camera Survey Guidelines: Camera Service/Retrieval Field Datasheet (RCSC et al., 2023)](./files-1_survey-guidelines/downloadable/Service-Retrieval-Field-Datasheet_RC-Survey-Guidelines-v1_2023-07-13.pdf)"
   ]
  }
 ],
 "metadata": {
  "editor_options": {
   "markdown": {
    "wrap": 300
   }
  },
  "jupytext": {
   "formats": "md:myst",
   "text_representation": {
    "extension": ".md",
    "format_name": "myst",
    "format_version": "0.17.2",
    "jupytext_version": "6.5.4"
   }
  },
  "kernelspec": {
   "display_name": "Python 3",
   "language": "python",
   "name": "python3"
  },
  "language_info": {
   "codemirror_mode": {
    "name": "ipython",
    "version": 3
   },
   "file_extension": ".py",
   "mimetype": "text/x-python",
   "name": "python",
   "nbconvert_exporter": "python",
   "pygments_lexer": "ipython3",
   "version": "3.11.3"
  },
  "source_map": [
   17
  ]
 },
 "nbformat": 4,
 "nbformat_minor": 5
}