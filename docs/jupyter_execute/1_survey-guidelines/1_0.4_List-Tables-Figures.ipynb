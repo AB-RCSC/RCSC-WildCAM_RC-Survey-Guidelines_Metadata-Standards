{
 "cells": [
  {
   "cell_type": "markdown",
   "id": "c02b5887",
   "metadata": {},
   "source": [
    "(#TOC-survey-guidelines-list-of-tables-and-list-of-figures)=\n",
    "# List of Tables & List of Figures\n",
    "\n",
    "(#TOC-survey-guidelines-list-of-tables)=\n",
    "\n",
    "## List of Tables\n",
    "\n",
    "[**Table 1.** A subset of software platforms and tools for data storage, image processing, and data analysis / analytics.](#TOC-survey-guidelines-useful-websites) Refer to <https://wildcams.ca/library/camera-trap-software-and-data-management> for a comprehensive comparison of commonly used software platforms\n",
    "\n",
    "[**Appendix A - Table A1.** Summary of the assumptions and pros/cons of the different modelling approaches (adapted from Wearn & Glover-Kapfer (2017) and Clarke et al. (2022)](#survey-guidelines-appendix-a-table-a-1)\n",
    "\n",
    "[**Appendix A - Table A2.** Summary of appropriate study design, camera spacing, and survey effort (adapted from Wearn & Glover-Kapfer (2017) with additional references included) for various modelling approaches. Note -- these are guidelines only, using best available information. There is uncertainty associated with each of the different approaches. To address this, the table contains 'minimum', 'ideal' and 'often' used values, as well as qualifiers](#survey-guidelines-appendix-a-table-a-2)\n",
    "\n",
    "[**Appendix A - Table A3.** Example of camera settings and recommended camera settings options (Reconyx Camera Models)](#survey-guidelines-appendix-a-table-a-3)\n",
    "\n",
    "[**Appendix A - Table A4.** Recommended equipment for field deployments (checklist)](#survey-guidelines-appendix-a-table-a-4)\n",
    "\n",
    "[**Appendix A - Table A5.** Steps to deploy a remote camera](#survey-guidelines-appendix-a-table-a-5)\n",
    "\n",
    "[**Appendix A -** Camera Deployment Field Datasheet](#camera-deployment-field-datasheet)\n",
    "\n",
    "[**Appendix A -** Test Image Sheet](#test-image-sheet)\n",
    "\n",
    "[**Appendix A -** Camera Service/Retrieval Field Datasheet](#camera-service-retrieval-field-datasheet)\n",
    "\n",
    "(#TOC-survey-guidelines-list-of-figures)=\n",
    "\n",
    "# List of Figures\n",
    "\n",
    "[**Figure 1.** Three conditional probabilities (Pr) of detection that may impact detection probability of an animal (or species) by a camera (adapted from Moeller et al. (2023), Hofmeester et al. (2019), and Findlay et al. (2020)](#survey-guidelines-figure-1)\n",
    "\n",
    "[**Figure 2.** Spatial scales (1-6) and processes that determine the probability of detection (Hofmeester et al., 2019; abbreviated figure caption)](#survey-guidelines-figure-2)\n",
    "\n",
    "[**Figure 3.** Examples of sampling designs: (a) simple random, (b) systematic, (c) stratified (each grid cell is a stratum), and (d) clustered (adapted from Schweiger, 2020)](#survey-guidelines-figure-3)\n",
    "\n",
    "[**Figure 4.** Examples of the a) external components and b) internal controls and components of a remote camera (Reconyx PC900; Reconyx Inc., 2017)](#survey-guidelines-figure-4)\n",
    "\n",
    "[**Figure 5.** The ability to detect an animal will vary according to the camera specifications (and settings). Important specifications include the camera's detection zone (here termed \"trigger area\"), Field of View (FOV; \"viewable area'), and\"registration area\" (the area in which an animal entering has at least some probability of being captured on the image) (Moeller et al., 2023)](#survey-guidelines-figure-5)\n",
    "\n",
    "[**Figure 6.** Illustration of a remote camera showing (A) the FOV Target Feature (a trail), (B) the camera's detection zone (everything inside the red outline), and (C) the distance of the camera to the FOV Target Feature](#survey-guidelines-figure-6)\n",
    "\n",
    "[**Figure 7.** The Walktest Distance and Walktest Height are the horizontal and vertical distances from the camera, respectively, at which the user performs the walk test. A walktest should be performed 5 m away from the camera, at both 0 m (ground) and 0.5--1 m heights](#survey-guidelines-figure-7)\n",
    "\n",
    "[**Appendix B -** **Figure B1.** \"Adapted from Gilbert et al. (2021) and Sun (unpublished). Decision tree for selecting camera trap density models. The models in the yellow rectangle are for marked and partially-marked populations; the remaining models are for unmarked populations. Note, the models in this decision tree are not necessarily ordered from strongest to weakest, but rather are organized by key features.\" (Clarke et al., 2022)](#TOC-survey-guidelines-appendix-b)"
   ]
  }
 ],
 "metadata": {
  "editor_options": {
   "markdown": {
    "wrap": 300
   }
  },
  "jupytext": {
   "formats": "md:myst",
   "text_representation": {
    "extension": ".md",
    "format_name": "myst",
    "format_version": "0.17.2",
    "jupytext_version": "6.5.4"
   }
  },
  "kernelspec": {
   "display_name": "Python 3",
   "language": "python",
   "name": "python3"
  },
  "language_info": {
   "codemirror_mode": {
    "name": "ipython",
    "version": 3
   },
   "file_extension": ".py",
   "mimetype": "text/x-python",
   "name": "python",
   "nbconvert_exporter": "python",
   "pygments_lexer": "ipython3",
   "version": "3.11.4"
  },
  "source_map": [
   17
  ]
 },
 "nbformat": 4,
 "nbformat_minor": 5
}