{
 "cells": [
  {
   "cell_type": "markdown",
   "id": "5472acca",
   "metadata": {},
   "source": [
    "(#TOC-survey-guidelines-appendix-b)=\n",
    "# Appendix B\n",
    "\n",
    "```{figure} ./files-1_survey-guidelines/figures/Survey-guidelines_DensityModels.jpg\n",
    ":height: 600px\n",
    ":align: center\n",
    ":name: #survey-guidelines-appendib-b-figure-b1\n",
    "```\n",
    "**Figure B1.** \"Adapted from Gilbert et al. (2021) and Sun (unpublished). Decision tree for selecting camera trap density models. The models in the yellow rectangle are for marked and partially-marked populations; the remaining models are for unmarked populations. Note, the models in this decision\n",
    "tree are not necessarily ordered from strongest to weakest, but rather are organized by key features.\" (Clarke et al., 2022)."
   ]
  }
 ],
 "metadata": {
  "editor_options": {
   "markdown": {
    "wrap": 300
   }
  },
  "jupytext": {
   "formats": "md:myst",
   "text_representation": {
    "extension": ".md",
    "format_name": "myst",
    "format_version": "0.17.2",
    "jupytext_version": "6.5.4"
   }
  },
  "kernelspec": {
   "display_name": "Python 3",
   "language": "python",
   "name": "python3"
  },
  "language_info": {
   "codemirror_mode": {
    "name": "ipython",
    "version": 3
   },
   "file_extension": ".py",
   "mimetype": "text/x-python",
   "name": "python",
   "nbconvert_exporter": "python",
   "pygments_lexer": "ipython3",
   "version": "3.11.3"
  },
  "source_map": [
   17
  ]
 },
 "nbformat": 4,
 "nbformat_minor": 5
}