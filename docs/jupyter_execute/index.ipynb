{
 "cells": [
  {
   "cell_type": "markdown",
   "id": "b2107882",
   "metadata": {},
   "source": [
    "# Remote Camera Survey Guidelines & AB Metadata Standards\n",
    "\n",
    "-----------------------------------------------------------------------------------------------------------------------------------  \n",
    "\n",
    "**Download the files & Access the templates** \n",
    "\n",
    "(#FILES_download_all)=\n",
    "\n",
    "[Download everything](./1_survey-guidelines/downloadable/RC-Survey-Guidelines-v2_AB-Metadata-Standards-v3_2024-04-01.zip)\n",
    "\n",
    ":::{dropdown} Remote Camera Survey Guidelines: Guidelines for Western Canada\n",
    "\n",
    "(#FILES_surv_guidelines_remote_cam_survey_guidelines)=\n",
    "[Remote Camera Survey Guidelines: Guidelines for Western Canada v1 (RCSC et al., 2024)](./1_survey-guidelines/downloadable/Remote-Camera-Survey-Guidelines-v2-(RCSC-et-al.,-2023)_2024-04-01.pdf)\n",
    "\n",
    "(#FILES_surv_guidelines_datasheet_deployment)=\n",
    "[Remote Camera Survey Guidelines: Camera Deployment Field Datasheet (RCSC et al., 2024)](./1_survey-guidelines/downloadable/Deployment-Field-Datasheet_RC-Survey-Guidelines-v2_2024-04-01.pdf)\n",
    "\n",
    "(#FILES_surv_guidelines_datasheet_test_image_sheet)=\n",
    "[Remote Camera Survey Guidelines: Test Image Sheet (RCSC et al., 2024)](./1_survey-guidelines/downloadable/Test-Image-Sheet_RC-Survey-Guidelines-v2_2024-04-01.pdf)\n",
    "\n",
    "(#FILES_surv_guidelines_datasheet_service_retrieval)=\n",
    "[Remote Camera Survey Guidelines: Camera Service/Retrieval Field Datasheet (RCSC et al., 2024)](./1_survey-guidelines/downloadable/ServiceRetrieval-Field-Datasheet_RC-Survey-Guidelines-v2_2024-04-01.pdf)\n",
    "\n",
    "(#FILES_surv_guidelines_epicollect_template)=\n",
    "[Remote Camera Survey Guidelines: EpiCollect Template (RCSC et al., 2024)](https://five.epicollect.net/project/rcsc-and-wildcam-remote-camera-survey-guidelines)\n",
    ":::  \n",
    "\n",
    "\n",
    "\n",
    "-----------------------------------------------------------------------------------------------------------------------------------  \n",
    "  \n",
    "\n",
    "\n",
    ":::{dropdown} Remote Camera Metadata Standards: Standards for Alberta\n",
    "\n",
    "(#FILES_md_standards_ab_metadata_standards)=\n",
    "[Remote Camera Metadata Standards: Standards for Alberta v3 (RCSC, 2024)](./2_metadata-standards/downloadable/AB-Remote-Camera-Metadata-Standards-v3_(RCSC,-2023)_2024-04-01.pdf)\n",
    "\n",
    "(#FILES_md_standards_metadata_template)=\n",
    "[Alberta Remote Camera Metadata Standards: Metadata Template (RCSC, 2024)](./2_metadata-standards/downloadable/Remote-Camera-Metadata-Template-v3-(RCSC,-2024)_2024-04-01.xlsm)\n",
    "\n",
    ":::\n",
    "\n",
    "***\n",
    "\n",
    "```{tableofcontents}\n",
    "```"
   ]
  }
 ],
 "metadata": {
  "editor_options": {
   "markdown": {
    "wrap": "none"
   }
  },
  "jupytext": {
   "formats": "md:myst",
   "text_representation": {
    "extension": ".md",
    "format_name": "myst",
    "format_version": "1.16",
    "jupytext_version": "1.16.1"
   }
  },
  "kernelspec": {
   "display_name": "Python 3",
   "language": "python",
   "name": "python3"
  },
  "language_info": {
   "codemirror_mode": {
    "name": "ipython",
    "version": 3
   },
   "file_extension": ".py",
   "mimetype": "text/x-python",
   "name": "python",
   "nbconvert_exporter": "python",
   "pygments_lexer": "ipython3",
   "version": "3.12.2"
  },
  "source_map": [
   16
  ]
 },
 "nbformat": 4,
 "nbformat_minor": 5
}