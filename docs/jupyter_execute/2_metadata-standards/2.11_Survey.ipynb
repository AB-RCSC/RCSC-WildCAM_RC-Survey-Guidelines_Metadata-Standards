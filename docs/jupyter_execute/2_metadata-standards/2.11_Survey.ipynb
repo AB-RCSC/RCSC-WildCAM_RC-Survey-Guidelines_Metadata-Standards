{
 "cells": [
  {
   "cell_type": "markdown",
   "id": "8197dfee",
   "metadata": {},
   "source": [
    "(#TOC-metadata-standards-surveys)=\n",
    "# 6.0 Surveys\n",
    "\n",
    "A **survey** is a unique deployment period (temporal extent) within a project. There may be multiple surveys in a single project. However, if multiple surveys are completed in the same study area and following the same survey design and methods of data collection, the project and survey information may be the same. If a project includes more than one type of survey, each should be included separately, with a unique Survey ID and survey-specific information.\n",
    "\n",
    "(#TOC-metadata-standards-survey-id)=\n",
    "## 6.1 Survey ID\n",
    "\n",
    "A unique alphanumeric identifier for each survey period (e.g., \"FORTMC_001\").\n",
    "\n",
    "(#TOC-metadata-standards-survey-objectives)=\n",
    "## 6.2 Survey Objectives\n",
    "\n",
    "Describe the specific objectives of each survey within a project, including the variable of interest (e.g., occupancy, density), and methods. Survey Objectives should be specific, measurable, achievable, relevant, and time-bound (i.e., SMART).\n",
    "\n",
    "For example: \"Our Survey Objective was to monitor trends in wolf occupancy at 5-year intervals from January -- December 2020 to 2023 in the oils sands region in the northern boreal forest of Alberta.\"\n",
    "\n",
    "(#TOC-metadata-standards-target-species)=\n",
    "## 6.3 Target Species\n",
    "\n",
    "The capitalized common name(s) of the species that the survey was designed to detect (e.g., \"COYOTE\" or \"COMMON GOLDENEYE\").\n",
    "\n",
    "If there is more than one Target Species, list the species in alphabetical order (e.g., \"COYOTE, MOOSE, MULE DEER\"). Alternatively, use the genus common name where appropriate (e.g., \"GENUS ODOCOILEUS\" for mule and white-tailed deer).\n",
    "\n",
    "(#TOC-metadata-standards-survey-design)=\n",
    "## 6.4 Survey Design\n",
    "\n",
    "Survey design refers to the spatial arrangement of remote cameras within the study area. Select one of the survey designs from the list provided:\n",
    "\n",
    "-   **\"Simple Random\"** (randomized locations)\n",
    "\n",
    "-   **\"Systematic\"** (regular pattern - e.g., grid; across disturbance gradient or reference sites)\n",
    "\n",
    "-   **\"Stratified\"** (locations in pre-defined \"strata\"; e.g., habitat types)\n",
    "\n",
    "-   **\"Clustered\"** (multiple cameras at a sample station; can be used with systematic or stratified design)\n",
    "\n",
    "-   **\"Paired\"** (two cameras in close proximity to one another (\"paired cameras\"), or when one or more cameras are at two separate locations that are in close proximity or with some characteristics in common (\"paired sites\")\n",
    "\n",
    "-   **\"Targeted\"** (locations with known or suspected high activity levels; e.g., game trails, mineral licks, etc.)\n",
    "\n",
    "-   **\"Convenience\"** (locations based on logistic considerations; e.g., remoteness, access constraints, costs)\n",
    "\n",
    "-   **\"Hierarchical (Multiple)¶\"** (e.g., Systematic and Stratified; describe in Survey Design Description field)\n",
    "\n",
    "-   **\"Other¶\"** (describe in Survey Design Description field)\n",
    "\n",
    "-   **\"Unknown\"**\n",
    "\n",
    "For additional information on survey designs, refer to the Remote Camera Survey Guidelines (RCSC et al., 2023).\n",
    "\n",
    "(#TOC-metadata-standards-survey-design-description-optional)=\n",
    "## 6.5 Survey Design Description (optional)\n",
    "\n",
    "Describe any additional details about your survey design.\n",
    "\n",
    "If you selected the \"Hierarchical (multiple)\" option from the Survey Design list, report all the designs as a comma delimited list from larger to smaller spatial scales. To help parse out this information later most easily, we recommend using a format that includes a header followed by the various survey designs, e.g., \"Survey_Design[Systematic,Convenience]\".\n",
    "\n",
    "For example: \"our convenience sampling design consisted of one camera location within each township in our study area; each location was within 100m of a secondary road or cutline; lure dispensers with Gorman's Gumbo (long line) were set-up at each camera location during initial camera deployment and not revisited during the survey period\".\n",
    "\n",
    "If you selected the \"Other\" option from the Survey Design list, provide information about the design used.\n",
    "\n",
    "If you set the Event Type field to \"Sequence,\" and are using a user-defined time threshold (e.g., 30 minutes) to define independent detection \"events\" within a sequence, report this threshold (or \"sequence definition\"). Refer to the Image/Sequence section for further details.\n",
    "\n",
    "(#TOC-metadata-standards-event-type)=\n",
    "## 6.6 Event Type\n",
    "\n",
    "Report whether detections were reported as an individual image captured by the camera (\"Image\"), a \"Sequence,\" or \"Tag\".\n",
    "\n",
    "A \"**Tag**\" refers to when individuals or groups of individuals are categorized within images, regardless of whether the information applies to all of the individuals in the image. A single \"Tag\" is generally applied to one or more individuals with the same combination of characteristics (e.g., adult males displaying the same behaviour). Conversely, individuals that have different characteristics would be given different tags. For example, if the Event Type is \"Tag,\" two individuals with an image that are of different Sex Classes would be categorized separately. This could also occur for Age Class, Behaviour, Human Transport Mode/Activity, etc. Since multiple tags can occur for a single image, there may be multiple data rows for the same image (if the Event Type is at the \"Tag\" level)."
   ]
  }
 ],
 "metadata": {
  "editor_options": {
   "markdown": {
    "wrap": 300
   }
  },
  "jupytext": {
   "formats": "md:myst",
   "text_representation": {
    "extension": ".md",
    "format_name": "myst",
    "format_version": 0.13,
    "jupytext_version": "1.11.5"
   }
  },
  "kernelspec": {
   "display_name": "Python 3",
   "language": "python",
   "name": "python3"
  },
  "language_info": {
   "codemirror_mode": {
    "name": "ipython",
    "version": 3
   },
   "file_extension": ".py",
   "mimetype": "text/x-python",
   "name": "python",
   "nbconvert_exporter": "python",
   "pygments_lexer": "ipython3",
   "version": "3.11.3"
  },
  "source_map": [
   17
  ]
 },
 "nbformat": 4,
 "nbformat_minor": 5
}