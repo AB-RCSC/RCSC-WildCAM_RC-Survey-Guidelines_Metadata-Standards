{
 "cells": [
  {
   "cell_type": "markdown",
   "id": "4682776d",
   "metadata": {},
   "source": [
    "(#TOC-metadata-standards-conclusion)=\n",
    "\n",
    "# 11.0 Conclusion\n",
    "\n",
    "These standards provide information on how remote camera data should be collected and documented in Alberta. These standards are closely related to other proposed standards (e.g., Forrester et al., 2016) and strongly align, wherever possible, with the [B.C. Metadata Standards](https://www2.gov.bc.ca/assets/gov/environment/natural-resource-stewardship/nr-laws-policy/risc/wcmp_v1.pdf) (RISC, 2019) and [Wildlife Insights Minimum Metadata Standards](https://docs.google.com/spreadsheets/d/1Jg-WybmVeGlWGrbPpwuwJCgranOV1r3M_LrzELttfK0/edit#gid=412365965) (Ahumada et al., 2019). The consistent collection of remote camera data helps support the development of robust study designs and datasets, and enhance opportunities for collaboration across [projects](#Heirch_Project) to address research and monitoring questions across administrative jurisdictions, including those on a global scale."
   ]
  }
 ],
 "metadata": {
  "editor_options": {
   "markdown": {
    "wrap": 300
   }
  },
  "jupytext": {
   "formats": "md:myst",
   "text_representation": {
    "extension": ".md",
    "format_name": "myst",
    "format_version": "0.17.2",
    "jupytext_version": "6.5.4"
   }
  },
  "kernelspec": {
   "display_name": "Python 3",
   "language": "python",
   "name": "python3"
  },
  "language_info": {
   "codemirror_mode": {
    "name": "ipython",
    "version": 3
   },
   "file_extension": ".py",
   "mimetype": "text/x-python",
   "name": "python",
   "nbconvert_exporter": "python",
   "pygments_lexer": "ipython3",
   "version": "3.11.3"
  },
  "source_map": [
   17
  ]
 },
 "nbformat": 4,
 "nbformat_minor": 5
}