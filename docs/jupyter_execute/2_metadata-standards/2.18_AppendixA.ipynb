{
 "cells": [
  {
   "cell_type": "markdown",
   "id": "61541f3b",
   "metadata": {},
   "source": [
    "(#TOC-metadata-standards-appendix-a)=\n",
    "\n",
    "# Appendix A\n",
    "\n",
    "(#metadata-standards-appendix-a-table-a1)=\n",
    "\n",
    "## Appendix A - Table A1\n",
    "\n",
    "**Appendix A - Table A1.** Metadata crosswalk table showing the corresponding fields used in this Alberta Metadata Standard (2023), and other standards used in Western Canada. An asterisk (\\*) denotes an optional field. Hierarchical levels are shown in bold font above each section.\n",
    "\n",
    "```{figure} ./files-2_metadata-standards/tables/AB-metadata-Appendix-A-Table-1A.jpg\n",
    ":width: 820px\n",
    ":align: center\n",
    "```\n",
    "```{figure} ./files-2_metadata-standards/tables/AB-metadata-Appendix-A-Table-1B.jpg\n",
    ":width: 820px\n",
    "```\n",
    "```{figure} ./files-2_metadata-standards/tables/AB-metadata-Appendix-A-Table-1C.jpg\n",
    ":width: 820px\n",
    "```\n",
    "*View the PDF*\n",
    "```{figure} ./files-2_metadata-standards/tables/Appendix-A-Table-A1.pdf\n",
    ":alt: AB Remote Camera AB Metadata Standards - Appendix A - Table A1\n",
    ":width: 820px\n",
    ":align: center\n",
    "```\n",
    "\n",
    "(#metadata-standards-appendix-a-table-a2)=\n",
    "\n",
    "## Appendix A - Table A2\n",
    "\n",
    "**Appendix A - Table A2.** Overview of the structure of the RCSC et al's Remote Camera Metadata Template (2023) including both the data fields recommended by the Remote Camera Survey Guidelines: Guidelines for Western Canada (RCSC et al., 2023) and these metadata standards.\n",
    "\n",
    "```{figure} ./files-2_metadata-standards/tables/AB-metadata-Appendix-A-Table-2A.jpg\n",
    ":width: 1000px\n",
    ":align: center\n",
    "```\n",
    "```{figure} ./files-2_metadata-standards/tables/AB-metadata-Appendix-A-Table-2B.jpg\n",
    ":width: 1000px\n",
    ":align: center\n",
    "```\n",
    "```{figure} ./files-2_metadata-standards/tables/AB-metadata-Appendix-A-Table-2C.jpg\n",
    ":width: 1000px\n",
    ":align: center\n",
    "```\n",
    "```{figure} ./files-2_metadata-standards/tables/AB-metadata-Appendix-A-Table-2D.jpg\n",
    ":width: 1000px\n",
    ":align: center\n",
    "```\n",
    "```{figure} ./files-2_metadata-standards/tables/AB-metadata-Appendix-A-Table-2E.jpg\n",
    ":width: 1000px\n",
    ":align: center\n",
    "```\n",
    "```{figure} ./files-2_metadata-standards/tables/AB-metadata-Appendix-A-Table-2F.jpg\n",
    ":width: 1000px\n",
    ":align: center\n",
    "```\n",
    "```{figure} ./files-2_metadata-standards/tables/AB-metadata-Appendix-A-Table-2G.jpg\n",
    ":width: 1000px\n",
    ":align: center\n",
    "```\n",
    "```{figure} ./files-2_metadata-standards/tables/AB-metadata-Appendix-A-Table-2H.jpg\n",
    ":width: 1000px\n",
    ":align: center\n",
    "```\n",
    "*View the PDF*\n",
    "```{figure} ./files-2_metadata-standards/tables/Appendix-A-Table-A2.pdf\n",
    ":alt: AB Remote Camera Metadata Standards - Appendix A - Table A2\n",
    ":width: 1000px\n",
    ":align: center\n",
    "```"
   ]
  }
 ],
 "metadata": {
  "editor_options": {
   "markdown": {
    "wrap": 300
   }
  },
  "jupytext": {
   "formats": "md:myst",
   "text_representation": {
    "extension": ".md",
    "format_name": "myst",
    "format_version": 0.13,
    "jupytext_version": "1.11.5"
   }
  },
  "kernelspec": {
   "display_name": "Python 3",
   "language": "python",
   "name": "python3"
  },
  "language_info": {
   "codemirror_mode": {
    "name": "ipython",
    "version": 3
   },
   "file_extension": ".py",
   "mimetype": "text/x-python",
   "name": "python",
   "nbconvert_exporter": "python",
   "pygments_lexer": "ipython3",
   "version": "3.11.3"
  },
  "source_map": [
   17
  ]
 },
 "nbformat": 4,
 "nbformat_minor": 5
}