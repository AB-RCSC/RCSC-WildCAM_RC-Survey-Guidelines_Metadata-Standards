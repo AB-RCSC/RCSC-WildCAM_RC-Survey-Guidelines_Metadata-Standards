{
 "cells": [
  {
   "cell_type": "markdown",
   "id": "63df273a",
   "metadata": {},
   "source": [
    "(#TOC-metadata-standards-sample-station_camera-location)=\n",
    "# 7.0 Sample Station/Camera Location\n",
    "\n",
    "A **sample station** refers to a grouping of two or more non-independent [camera locations](#Heirch_Camera_location), such as when cameras are [clustered](#sampledesign_clustered) or [paired](#Sampledesign_paired). For example, multiple cameras in close proximity to one another for individual animal identification or on/off-trail comparison could be considered a [sample station](#Heirch_Sample_station).\n",
    "\n",
    "Each [sample station](#Heirch_Sample_station) should have its own unique [Sample Station ID](#ID_Sample_station_ID) (grouping ID). Within a [sample station](#Heirch_Sample_station), each camera will have a unique [Camera Location ID](#ID_Camera_location) and location (unless multiple cameras are on the same [camera attachment](#camera-attachment) point; e.g., tree).\n",
    "\n",
    "(#TOC-metadata-standards-sample-station-id)=\n",
    "## 7.1 Sample Station ID\n",
    "\n",
    "A sequential alphanumeric identifier for each [camera location](#Heirch_Camera_location) within a grouping of two more non-independent [camera locations](#Heirch_Camera_location) when cameras are deployed in clusters, pairs or arrays (e.g., \"SS1\" in \"SS1_BH1\", \"SS1_BH2\", \"SS1_BH3\" etc.). Record as \"NULL\" if this field is not applicable.\n",
    "\n",
    "(#TOC-metadata-standards-camera-location-id)=\n",
    "## 7.2 Camera Location ID\n",
    "\n",
    "A unique alphanumeric identifier for the location where a single camera was placed (e.g., \"BH1\", \"BH2\").\n",
    "\n",
    "(#TOC-metadata-standards-latitude-camera-location)=\n",
    "## 7.3 Latitude Camera Location\n",
    "\n",
    "The latitude of the [camera location](#Heirch_Camera_location) in decimal degrees to five decimal places (e.g., 53.78136). Enter \"NULL\" if recording the [Northing Camera Location](#Coord_Northing_camera_location) instead.\n",
    "\n",
    "(#TOC-metadata-standards-longitude-camera-location)=\n",
    "## 7.4 Longitude Camera Location\n",
    "\n",
    "The longitude of the [camera location](#Heirch_Camera_location) in decimal degrees to five decimal places (e.g., -113.46067). Enter \"NULL\" if recording the [Easting Camera Location](#Coord_Easting_camera_location) instead.\n",
    "\n",
    "(#TOC-metadata-standards-northing-camera-location)=\n",
    "## 7.5 Northing Camera Location\n",
    "\n",
    "The northing UTM coordinate of the [camera location](#Heirch_Camera_location) (e.g., 5962006). Record using the NAD83 datum. Enter \"NULL\" if recording the [Latitude Camera Location](#Coord_Latitude_camera_location) instead.\n",
    "\n",
    "(#TOC-metadata-standards-easting-camera-location)=\n",
    "## 7.6 Easting Camera Location\n",
    "\n",
    "The easting UTM coordinate of the [camera location](#Heirch_Camera_location) (e.g., 337875). Record using the NAD83 datum. Enter \"NULL\" if recording the [Longitude Camera Location](#Coord_Longitude_camera_location) instead.\n",
    "\n",
    "(#TOC-metadata-standards-utm-zone-camera-location)=\n",
    "## 7.7 UTM Zone Camera Location\n",
    "\n",
    "This alphanumeric field applies if reporting [camera locations](#Heirch_Camera_location) in easting and northing UTM coordinates. The UTM zone refers to the coordinate system that divides geographic areas into north-south zones. In Alberta the UTM zones are either 11, 12, or TTM. Enter all other UTM zones in the [Camera Location Comments](#Comments_Camera_location_comments) field (e.g., zones 7-10 for British Columbia), or use [Latitude Camera Location](#Coord_Latitude_camera_location) and [Longitude Camera Location](#Coord_Longitude_camera_location) instead of UTM coordinates.\n",
    "\n",
    "(#TOC-metadata-standards-gps-unit-accuracy-m)=\n",
    "## 7.8 GPS Unit Accuracy (m)\n",
    "\n",
    "The margin of error of the GPS unit used to record spatial information (e.g., \"5\" m), such as the coordinates of the [camera location](#Heirch_Camera_location). On most GPS units (e.g., Garmin) this information is provided on the unit's satellite information page. [GPS Unit Accuracy](#GPS_unit_accuracy) may vary with the make and model of the GPS unit, surrounding vegetation, infrastructure, atmospheric interference, etc.\n",
    "\n",
    "(#TOC-metadata-standards-camera-location-comments-optional)=\n",
    "## 7.9 Camera Location Comments (optional)\n",
    "\n",
    "Describe any additional details about a [camera location](#Heirch_Camera_location) (e.g., in UTM Zone 7 in British Columbia; aspen-dominated; type of \"Off-Highway Vehicle Trail\" used as a [FOV Target Feature](#FOV_target)).\n",
    "\n",
    "If you selected \"Other\" from the [FOV Target Feature](#FOV_target) field, provide information about that feature (e.g., 2x4 m high woody debris piles within a cutblock)."
   ]
  }
 ],
 "metadata": {
  "editor_options": {
   "markdown": {
    "wrap": 300
   }
  },
  "jupytext": {
   "formats": "md:myst",
   "text_representation": {
    "extension": ".md",
    "format_name": "myst",
    "format_version": "0.17.2",
    "jupytext_version": "6.5.4"
   }
  },
  "kernelspec": {
   "display_name": "Python 3",
   "language": "python",
   "name": "python3"
  },
  "language_info": {
   "codemirror_mode": {
    "name": "ipython",
    "version": 3
   },
   "file_extension": ".py",
   "mimetype": "text/x-python",
   "name": "python",
   "nbconvert_exporter": "python",
   "pygments_lexer": "ipython3",
   "version": "3.11.4"
  },
  "source_map": [
   17
  ]
 },
 "nbformat": 4,
 "nbformat_minor": 5
}