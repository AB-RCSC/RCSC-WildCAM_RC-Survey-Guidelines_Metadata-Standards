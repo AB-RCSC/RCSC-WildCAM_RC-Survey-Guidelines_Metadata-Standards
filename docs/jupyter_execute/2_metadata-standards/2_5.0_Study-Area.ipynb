{
 "cells": [
  {
   "cell_type": "markdown",
   "id": "04b4a987",
   "metadata": {},
   "source": [
    "(#TOC-metadata-standards-study-area)=\n",
    "# 5.0 Study Area\n",
    "\n",
    "A **[study area](#Hierarch_Study_area)** is a unique research, inventory or monitoring area (spatial boundary) within a [project](#Heirch_Project). There may be multiple [study areas](#Hierarch_Study_area) within a single [project](#Heirch_Project). Several factors may influence the spatial extent of the [study area](#Hierarch_Study_area), including the [Survey Objectives](#Survey_objectives), landscape features (e.g., habitat type, land uses, etc.), the biology of the [Target Species](#Target_species)' (e.g., dispersal ability, habitat preferences, etc.) and proposed method(s) of data analysis.\n",
    "\n",
    "(#TOC-metadata-standards-study-area-id)=\n",
    "## 5.1 Study Area ID\n",
    "\n",
    "A unique alphanumeric identifier for each [study area](#Hierarch_Study_area) (e.g.,\"OILSANDS-REF001,\" \"OILSANDS-REF002\"). If only one area was surveyed, the [Project ID](#ID_Project) and [Study Area ID](#ID_Study_area) should be the same.\n",
    "\n",
    "(#TOC-metadata-standards-study-area-description)=\n",
    "## 5.2 Study Area Description\n",
    "\n",
    "Describe for each unique research or monitoring area including its location, habitat type(s), land use(s) and habitat disturbances (where applicable).\n",
    "\n",
    "For example: \"The [study area](#Hierarch_Study_area) OILSANDS-REF001 was located in the south-east corner of the Birch Mountains Wildland Provincial Park in the Boreal Highlands subregion. The area consisted primarily of bogs, patches of pine, aspen and birch forest as well as riparian meadow habitats. There was no land use disturbance in the [study area](#Hierarch_Study_area).\""
   ]
  }
 ],
 "metadata": {
  "editor_options": {
   "markdown": {
    "wrap": 300
   }
  },
  "jupytext": {
   "formats": "md:myst",
   "text_representation": {
    "extension": ".md",
    "format_name": "myst",
    "format_version": "0.17.2",
    "jupytext_version": "6.5.4"
   }
  },
  "kernelspec": {
   "display_name": "Python 3",
   "language": "python",
   "name": "python3"
  },
  "language_info": {
   "codemirror_mode": {
    "name": "ipython",
    "version": 3
   },
   "file_extension": ".py",
   "mimetype": "text/x-python",
   "name": "python",
   "nbconvert_exporter": "python",
   "pygments_lexer": "ipython3",
   "version": "3.11.5"
  },
  "source_map": [
   17
  ]
 },
 "nbformat": 4,
 "nbformat_minor": 5
}