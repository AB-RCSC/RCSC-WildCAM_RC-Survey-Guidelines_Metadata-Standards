{
 "cells": [
  {
   "cell_type": "markdown",
   "id": "70899498",
   "metadata": {},
   "source": [
    "(#TOC-metadata-standards-appendix-a)=\n",
    "\n",
    "# Appendix A\n",
    "\n",
    "(#metadata-standards-appendix-a-table-a-1)=\n",
    "\n",
    "**Appendix A - Table A1**\n",
    "\n",
    "**Appendix A - Table A1.** Metadata crosswalk table showing the corresponding fields used in this Alberta Metadata Standard (2023), and other standards used in Western Canada. An asterisk (\\*) denotes an optional field. Hierarchical levels are shown in bold font above each section.  \n",
    "\n",
    "<object data=\"https://cassstevenson.github.io/RCSC-WildCAM_Remote-Camera-Survey-Guidelines-and-Metadata-Standards/_downloads/cd620fa05778d39e1ab209d8b55f12ff/Appendix-A-Table-A1.pdf\" type=\"application/pdf\" width=\"1120px\" height=\"880px\">\n",
    "    <embed src=\"https://cassstevenson.github.io/RCSC-WildCAM_Remote-Camera-Survey-Guidelines-and-Metadata-Standards/_downloads/cd620fa05778d39e1ab209d8b55f12ff/Appendix-A-Table-A1.pdf\">\n",
    "        <p>This browser does not support PDFs. Please download the PDF to view it: <a href=\"https://cassstevenson.github.io/RCSC-WildCAM_Remote-Camera-Survey-Guidelines-and-Metadata-Standards/_downloads/cd620fa05778d39e1ab209d8b55f12ff/Appendix-A-Table-A1.pdf\">Download PDF</a>.</p>\n",
    "    </embed>\n",
    "</object>  \n",
    "<br/><br/>\n",
    "\n",
    "*Download the PDF*\n",
    "[AB Remote Camera Metadata Standards: Appendix A - Table A1](./files-2_metadata-standards/tables/Appendix-A-Table-A1.pdf)\n",
    "\n",
    "***  \n",
    "\n",
    "(#metadata-standards-appendix-a-table-a-2)=\n",
    "\n",
    "**Appendix A - Table A2**\n",
    "\n",
    "**Appendix A - Table A2.** Overview of the structure of the RCSC et al's [Remote Camera Metadata Template (RCSC et al., 2023)](#metadata-template) including both the data fields recommended by the [Remote Camera Survey Guidelines: Guidelines for Western Canada (RCSC et al., 2023)](#remote-cam-survey-guidelines) and these metadata standards.\n",
    "\n",
    "\n",
    "<object data=\"https://cassstevenson.github.io/RCSC-WildCAM_Remote-Camera-Survey-Guidelines-and-Metadata-Standards/_downloads/213201186fc6a09175efc20739650037/Appendix-A-Table-A2.pdf\" type=\"application/pdf\" width=\"1120px\" height=\"880px\">\n",
    "    <embed src=\"https://cassstevenson.github.io/RCSC-WildCAM_Remote-Camera-Survey-Guidelines-and-Metadata-Standards/_downloads/213201186fc6a09175efc20739650037/Appendix-A-Table-A2.pdf\">\n",
    "        <p>This browser does not support PDFs. Please download the PDF to view it: <a href=\"https://cassstevenson.github.io/RCSC-WildCAM_Remote-Camera-Survey-Guidelines-and-Metadata-Standards/_downloads/213201186fc6a09175efc20739650037/Appendix-A-Table-A2.pdf\">Download PDF</a>.</p>\n",
    "    </embed>\n",
    "</object>  \n",
    "<br/><br/>\n",
    "\n",
    "*Download the PDF*\n",
    "[AB Remote Camera Metadata Standards: Appendix A - Table A2](./files-2_metadata-standards/tables/Appendix-A-Table-A2.pdf)\n",
    "\n",
    "***"
   ]
  }
 ],
 "metadata": {
  "editor_options": {
   "markdown": {
    "wrap": 300
   }
  },
  "jupytext": {
   "formats": "md:myst",
   "text_representation": {
    "extension": ".md",
    "format_name": "myst",
    "format_version": "0.17.2",
    "jupytext_version": "6.5.4"
   }
  },
  "kernelspec": {
   "display_name": "Python 3",
   "language": "python",
   "name": "python3"
  },
  "language_info": {
   "codemirror_mode": {
    "name": "ipython",
    "version": 3
   },
   "file_extension": ".py",
   "mimetype": "text/x-python",
   "name": "python",
   "nbconvert_exporter": "python",
   "pygments_lexer": "ipython3",
   "version": "3.11.4"
  },
  "source_map": [
   17
  ]
 },
 "nbformat": 4,
 "nbformat_minor": 5
}